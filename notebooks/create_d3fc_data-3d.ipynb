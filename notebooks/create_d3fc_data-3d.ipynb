{
 "cells": [
  {
   "cell_type": "markdown",
   "id": "b6322cdb-2cd0-462c-975d-6f5354354f27",
   "metadata": {},
   "source": [
    "# Creating d3fc data \n",
    "\n",
    "Here we create a TSV of UMAP-projected embeddings, alongside different groupings of these embeddings, for a 2D projection visualisation. \n",
    "\n",
    "See [./create_colour_mappings_for_vis.ipynb](./create_colour_mappings_for_vis.ipynb) first."
   ]
  },
  {
   "cell_type": "code",
   "execution_count": 1,
   "id": "5e7a5dbf-0201-430c-9e32-b5a6923e6443",
   "metadata": {},
   "outputs": [],
   "source": [
    "import glob\n",
    "from pathlib import Path\n",
    "from typing import List\n",
    "import json\n",
    "\n",
    "import pandas as pd\n",
    "import numpy as np\n",
    "import requests\n",
    "from tqdm.auto import tqdm\n",
    "\n",
    "pd.set_option('display.max_colwidth', None)"
   ]
  },
  {
   "cell_type": "code",
   "execution_count": 2,
   "id": "251229c2-cf3c-4984-9476-ab83a31efd48",
   "metadata": {},
   "outputs": [
    {
     "data": {
      "text/plain": [
       "{'http://www.wikidata.org/entity/Q3568968': 'William Stanley'}"
      ]
     },
     "execution_count": 2,
     "metadata": {},
     "output_type": "execute_result"
    }
   ],
   "source": [
    "def paginate_list(l, page_size):\n",
    "    return [l[i : i + page_size] for i in range(0, len(l), page_size)]\n",
    "\n",
    "def get_labels(uris: List[str]) -> dict:\n",
    "    \"\"\"Get labels for URIs using Heritage Connector API\"\"\"\n",
    "    \n",
    "    hc_api_labels_endpoint = \"https://d0rgkq.deta.dev/labels\"\n",
    "    headers = {'Content-Type': 'application/json'}\n",
    "    body = json.dumps({\"uris\": uris})\n",
    "    res = requests.post(hc_api_labels_endpoint, headers=headers, data=body)\n",
    "    \n",
    "    return res.json()\n",
    "\n",
    "get_labels([\"http://www.wikidata.org/entity/Q3568968\"])"
   ]
  },
  {
   "cell_type": "markdown",
   "id": "815c4561-101a-4294-978e-8a78884fbad7",
   "metadata": {},
   "source": [
    "## 1. Import data \n",
    "\n",
    "The ent-to-idx mapping created by DGL-KE, and the projected embeddings created by running the DGL-KE embeddings through UMAP."
   ]
  },
  {
   "cell_type": "code",
   "execution_count": 3,
   "id": "acfb8699-364f-471d-a5fe-4e190aa2ef8b",
   "metadata": {},
   "outputs": [
    {
     "data": {
      "text/plain": [
       "((645565, 1), (645565, 3))"
      ]
     },
     "execution_count": 3,
     "metadata": {},
     "output_type": "execute_result"
    }
   ],
   "source": [
    "ENT_MAPPING_PATH = \"../data/processed/final_model_dglke/entities.tsv\"\n",
    "PROJECTED_EMBEDDINGS_PATH = \"../data/processed/final_model_dglke/umap/best_projection_3d.npy\"\n",
    "\n",
    "ent_idx_mapping = pd.read_csv(\n",
    "    ENT_MAPPING_PATH,\n",
    "    sep=\"\\t\",\n",
    "    index_col=0,\n",
    "    header=None,\n",
    "    names=[\"value\"],\n",
    ").fillna(\"\")\n",
    "\n",
    "projs = np.load(PROJECTED_EMBEDDINGS_PATH).astype('float32')\n",
    "\n",
    "ent_idx_mapping.shape, projs.shape"
   ]
  },
  {
   "cell_type": "markdown",
   "id": "7f205734-4eef-4573-ad0d-b6cffb21c33d",
   "metadata": {},
   "source": [
    "The various mappings from entities to groups (which will be displayed in different colours in the visualisation) created by the notebook [./create_colour_mappings_for_vis.ipynb](./create_colour_mappings_for_vis.ipynb)."
   ]
  },
  {
   "cell_type": "code",
   "execution_count": 4,
   "id": "420d6310-8075-4122-a7c5-775e2b1b7b1e",
   "metadata": {},
   "outputs": [
    {
     "name": "stdout",
     "output_type": "stream",
     "text": [
      "Loaded ../data/processed/embedding_colour_mappings/mapping_type.tsv to mappings['mapping_type']\n",
      "Loaded ../data/processed/embedding_colour_mappings/mapping_collection_category.tsv to mappings['mapping_collection_category']\n",
      "Loaded ../data/processed/embedding_colour_mappings/mapping_database.tsv to mappings['mapping_database']\n"
     ]
    }
   ],
   "source": [
    "MAPPINGS_FOLDER = \"../data/processed/embedding_colour_mappings/\"\n",
    "\n",
    "mappings = {}\n",
    "\n",
    "for filename in glob.glob(MAPPINGS_FOLDER + \"*.tsv\"):\n",
    "    cat_name = Path(filename).stem\n",
    "    mappings[cat_name] = pd.read_csv(filename, sep=\"\\t\", index_col=0, names=[\"value\", \"group\"])\n",
    "    \n",
    "    print(f\"Loaded {filename} to mappings['{cat_name}']\")"
   ]
  },
  {
   "cell_type": "markdown",
   "id": "2122fa14-9b30-4eff-b441-d63a847c6aee",
   "metadata": {},
   "source": [
    "## 2. Transform data\n",
    "\n",
    "We want to make a DataFrame we can export as a TSV, with columns:\n",
    "\n",
    "``` markdown\n",
    "- id\n",
    "- label\n",
    "- collection_category\n",
    "- type\n",
    "- x\n",
    "- y\n",
    "- index\n",
    "```"
   ]
  },
  {
   "cell_type": "code",
   "execution_count": 5,
   "id": "61590c5a-845f-46de-88bb-0e4b6e21d45a",
   "metadata": {},
   "outputs": [
    {
     "data": {
      "text/html": [
       "<div>\n",
       "<style scoped>\n",
       "    .dataframe tbody tr th:only-of-type {\n",
       "        vertical-align: middle;\n",
       "    }\n",
       "\n",
       "    .dataframe tbody tr th {\n",
       "        vertical-align: top;\n",
       "    }\n",
       "\n",
       "    .dataframe thead th {\n",
       "        text-align: right;\n",
       "    }\n",
       "</style>\n",
       "<table border=\"1\" class=\"dataframe\">\n",
       "  <thead>\n",
       "    <tr style=\"text-align: right;\">\n",
       "      <th></th>\n",
       "      <th>index</th>\n",
       "      <th>id</th>\n",
       "    </tr>\n",
       "  </thead>\n",
       "  <tbody>\n",
       "    <tr>\n",
       "      <th>0</th>\n",
       "      <td>0</td>\n",
       "      <td>https://collection.sciencemuseumgroup.org.uk/people/cp28058</td>\n",
       "    </tr>\n",
       "    <tr>\n",
       "      <th>1</th>\n",
       "      <td>1</td>\n",
       "      <td>http://www.wikidata.org/entity/Q3568968</td>\n",
       "    </tr>\n",
       "    <tr>\n",
       "      <th>2</th>\n",
       "      <td>2</td>\n",
       "      <td>https://collection.sciencemuseumgroup.org.uk/objects/co138741</td>\n",
       "    </tr>\n",
       "    <tr>\n",
       "      <th>3</th>\n",
       "      <td>3</td>\n",
       "      <td>plastic</td>\n",
       "    </tr>\n",
       "    <tr>\n",
       "      <th>4</th>\n",
       "      <td>4</td>\n",
       "      <td>https://collection.sciencemuseumgroup.org.uk/people/cp28358</td>\n",
       "    </tr>\n",
       "  </tbody>\n",
       "</table>\n",
       "</div>"
      ],
      "text/plain": [
       "   index                                                             id\n",
       "0      0    https://collection.sciencemuseumgroup.org.uk/people/cp28058\n",
       "1      1                        http://www.wikidata.org/entity/Q3568968\n",
       "2      2  https://collection.sciencemuseumgroup.org.uk/objects/co138741\n",
       "3      3                                                        plastic\n",
       "4      4    https://collection.sciencemuseumgroup.org.uk/people/cp28358"
      ]
     },
     "execution_count": 5,
     "metadata": {},
     "output_type": "execute_result"
    }
   ],
   "source": [
    "# create `id, index`\n",
    "transformed_data = ent_idx_mapping.copy().rename(columns={\"value\": \"id\"}).reset_index()\n",
    "\n",
    "transformed_data.head()"
   ]
  },
  {
   "cell_type": "code",
   "execution_count": 6,
   "id": "4d7e3ab7-5a02-4e08-ba9a-ebef0803c582",
   "metadata": {},
   "outputs": [
    {
     "data": {
      "text/html": [
       "<div>\n",
       "<style scoped>\n",
       "    .dataframe tbody tr th:only-of-type {\n",
       "        vertical-align: middle;\n",
       "    }\n",
       "\n",
       "    .dataframe tbody tr th {\n",
       "        vertical-align: top;\n",
       "    }\n",
       "\n",
       "    .dataframe thead th {\n",
       "        text-align: right;\n",
       "    }\n",
       "</style>\n",
       "<table border=\"1\" class=\"dataframe\">\n",
       "  <thead>\n",
       "    <tr style=\"text-align: right;\">\n",
       "      <th></th>\n",
       "      <th>index</th>\n",
       "      <th>id</th>\n",
       "      <th>x</th>\n",
       "      <th>y</th>\n",
       "      <th>z</th>\n",
       "    </tr>\n",
       "  </thead>\n",
       "  <tbody>\n",
       "    <tr>\n",
       "      <th>0</th>\n",
       "      <td>0</td>\n",
       "      <td>https://collection.sciencemuseumgroup.org.uk/people/cp28058</td>\n",
       "      <td>-2.401737</td>\n",
       "      <td>0.665359</td>\n",
       "      <td>-8.348495</td>\n",
       "    </tr>\n",
       "    <tr>\n",
       "      <th>1</th>\n",
       "      <td>1</td>\n",
       "      <td>http://www.wikidata.org/entity/Q3568968</td>\n",
       "      <td>-2.640530</td>\n",
       "      <td>0.618282</td>\n",
       "      <td>-8.728342</td>\n",
       "    </tr>\n",
       "    <tr>\n",
       "      <th>2</th>\n",
       "      <td>2</td>\n",
       "      <td>https://collection.sciencemuseumgroup.org.uk/objects/co138741</td>\n",
       "      <td>10.603285</td>\n",
       "      <td>1.078037</td>\n",
       "      <td>2.380662</td>\n",
       "    </tr>\n",
       "    <tr>\n",
       "      <th>3</th>\n",
       "      <td>3</td>\n",
       "      <td>plastic</td>\n",
       "      <td>6.023331</td>\n",
       "      <td>5.805542</td>\n",
       "      <td>20.752670</td>\n",
       "    </tr>\n",
       "    <tr>\n",
       "      <th>4</th>\n",
       "      <td>4</td>\n",
       "      <td>https://collection.sciencemuseumgroup.org.uk/people/cp28358</td>\n",
       "      <td>-2.900928</td>\n",
       "      <td>0.211201</td>\n",
       "      <td>-7.089437</td>\n",
       "    </tr>\n",
       "  </tbody>\n",
       "</table>\n",
       "</div>"
      ],
      "text/plain": [
       "   index                                                             id  \\\n",
       "0      0    https://collection.sciencemuseumgroup.org.uk/people/cp28058   \n",
       "1      1                        http://www.wikidata.org/entity/Q3568968   \n",
       "2      2  https://collection.sciencemuseumgroup.org.uk/objects/co138741   \n",
       "3      3                                                        plastic   \n",
       "4      4    https://collection.sciencemuseumgroup.org.uk/people/cp28358   \n",
       "\n",
       "           x         y          z  \n",
       "0  -2.401737  0.665359  -8.348495  \n",
       "1  -2.640530  0.618282  -8.728342  \n",
       "2  10.603285  1.078037   2.380662  \n",
       "3   6.023331  5.805542  20.752670  \n",
       "4  -2.900928  0.211201  -7.089437  "
      ]
     },
     "execution_count": 6,
     "metadata": {},
     "output_type": "execute_result"
    }
   ],
   "source": [
    "# create x, y\n",
    "projs_df = pd.DataFrame(projs, columns=[\"x\", \"y\", \"z\"])\n",
    "transformed_data = pd.concat([transformed_data, projs_df], axis=1)\n",
    "\n",
    "transformed_data.head()"
   ]
  },
  {
   "cell_type": "code",
   "execution_count": 7,
   "id": "1ae3ca2f-3f41-4c7c-ad6a-bd2a54f977f1",
   "metadata": {},
   "outputs": [
    {
     "data": {
      "text/html": [
       "<div>\n",
       "<style scoped>\n",
       "    .dataframe tbody tr th:only-of-type {\n",
       "        vertical-align: middle;\n",
       "    }\n",
       "\n",
       "    .dataframe tbody tr th {\n",
       "        vertical-align: top;\n",
       "    }\n",
       "\n",
       "    .dataframe thead th {\n",
       "        text-align: right;\n",
       "    }\n",
       "</style>\n",
       "<table border=\"1\" class=\"dataframe\">\n",
       "  <thead>\n",
       "    <tr style=\"text-align: right;\">\n",
       "      <th></th>\n",
       "      <th>index</th>\n",
       "      <th>id</th>\n",
       "      <th>x</th>\n",
       "      <th>y</th>\n",
       "      <th>z</th>\n",
       "      <th>type</th>\n",
       "      <th>collection_category</th>\n",
       "    </tr>\n",
       "  </thead>\n",
       "  <tbody>\n",
       "    <tr>\n",
       "      <th>0</th>\n",
       "      <td>0</td>\n",
       "      <td>https://collection.sciencemuseumgroup.org.uk/people/cp28058</td>\n",
       "      <td>-2.401737</td>\n",
       "      <td>0.665359</td>\n",
       "      <td>-8.348495</td>\n",
       "      <td>Person</td>\n",
       "      <td>Person</td>\n",
       "    </tr>\n",
       "    <tr>\n",
       "      <th>1</th>\n",
       "      <td>1</td>\n",
       "      <td>http://www.wikidata.org/entity/Q3568968</td>\n",
       "      <td>-2.640530</td>\n",
       "      <td>0.618282</td>\n",
       "      <td>-8.728342</td>\n",
       "      <td>Wikidata</td>\n",
       "      <td>Wikidata</td>\n",
       "    </tr>\n",
       "    <tr>\n",
       "      <th>2</th>\n",
       "      <td>2</td>\n",
       "      <td>https://collection.sciencemuseumgroup.org.uk/objects/co138741</td>\n",
       "      <td>10.603285</td>\n",
       "      <td>1.078037</td>\n",
       "      <td>2.380662</td>\n",
       "      <td>Object</td>\n",
       "      <td>Category - Therapeutics</td>\n",
       "    </tr>\n",
       "    <tr>\n",
       "      <th>3</th>\n",
       "      <td>3</td>\n",
       "      <td>plastic</td>\n",
       "      <td>6.023331</td>\n",
       "      <td>5.805542</td>\n",
       "      <td>20.752670</td>\n",
       "      <td>NaN</td>\n",
       "      <td>NaN</td>\n",
       "    </tr>\n",
       "    <tr>\n",
       "      <th>4</th>\n",
       "      <td>4</td>\n",
       "      <td>https://collection.sciencemuseumgroup.org.uk/people/cp28358</td>\n",
       "      <td>-2.900928</td>\n",
       "      <td>0.211201</td>\n",
       "      <td>-7.089437</td>\n",
       "      <td>Organisation</td>\n",
       "      <td>Organisation</td>\n",
       "    </tr>\n",
       "  </tbody>\n",
       "</table>\n",
       "</div>"
      ],
      "text/plain": [
       "   index                                                             id  \\\n",
       "0      0    https://collection.sciencemuseumgroup.org.uk/people/cp28058   \n",
       "1      1                        http://www.wikidata.org/entity/Q3568968   \n",
       "2      2  https://collection.sciencemuseumgroup.org.uk/objects/co138741   \n",
       "3      3                                                        plastic   \n",
       "4      4    https://collection.sciencemuseumgroup.org.uk/people/cp28358   \n",
       "\n",
       "           x         y          z          type      collection_category  \n",
       "0  -2.401737  0.665359  -8.348495        Person                   Person  \n",
       "1  -2.640530  0.618282  -8.728342      Wikidata                 Wikidata  \n",
       "2  10.603285  1.078037   2.380662        Object  Category - Therapeutics  \n",
       "3   6.023331  5.805542  20.752670           NaN                      NaN  \n",
       "4  -2.900928  0.211201  -7.089437  Organisation             Organisation  "
      ]
     },
     "execution_count": 7,
     "metadata": {},
     "output_type": "execute_result"
    }
   ],
   "source": [
    "# create mappings cols\n",
    "MAPPINGS_TO_ADD = [\"mapping_collection_category\", \"mapping_type\"]\n",
    "\n",
    "for mapping_name, mapping_df in mappings.items():\n",
    "    if mapping_name in MAPPINGS_TO_ADD:\n",
    "        new_col_name = mapping_name[8:] # remove prefix `mapping_`\n",
    "        transformed_data[new_col_name] = mapping_df['group']\n",
    "        \n",
    "transformed_data.head()\n"
   ]
  },
  {
   "cell_type": "code",
   "execution_count": 8,
   "id": "bdede804-d37d-4962-b97a-e2a2b79fb567",
   "metadata": {},
   "outputs": [
    {
     "data": {
      "application/vnd.jupyter.widget-view+json": {
       "model_id": "1a1a2fbb61fa48c79dd8238353dc226f",
       "version_major": 2,
       "version_minor": 0
      },
      "text/plain": [
       "  0%|          | 0/87 [00:00<?, ?it/s]"
      ]
     },
     "metadata": {},
     "output_type": "display_data"
    },
    {
     "data": {
      "text/html": [
       "<div>\n",
       "<style scoped>\n",
       "    .dataframe tbody tr th:only-of-type {\n",
       "        vertical-align: middle;\n",
       "    }\n",
       "\n",
       "    .dataframe tbody tr th {\n",
       "        vertical-align: top;\n",
       "    }\n",
       "\n",
       "    .dataframe thead th {\n",
       "        text-align: right;\n",
       "    }\n",
       "</style>\n",
       "<table border=\"1\" class=\"dataframe\">\n",
       "  <thead>\n",
       "    <tr style=\"text-align: right;\">\n",
       "      <th></th>\n",
       "      <th>index</th>\n",
       "      <th>id</th>\n",
       "      <th>x</th>\n",
       "      <th>y</th>\n",
       "      <th>z</th>\n",
       "      <th>type</th>\n",
       "      <th>collection_category</th>\n",
       "      <th>label</th>\n",
       "    </tr>\n",
       "  </thead>\n",
       "  <tbody>\n",
       "    <tr>\n",
       "      <th>0</th>\n",
       "      <td>0</td>\n",
       "      <td>https://collection.sciencemuseumgroup.org.uk/people/cp28058</td>\n",
       "      <td>-2.401737</td>\n",
       "      <td>0.665359</td>\n",
       "      <td>-8.348495</td>\n",
       "      <td>Person</td>\n",
       "      <td>Person</td>\n",
       "      <td>William Ford Stanley</td>\n",
       "    </tr>\n",
       "    <tr>\n",
       "      <th>1</th>\n",
       "      <td>1</td>\n",
       "      <td>http://www.wikidata.org/entity/Q3568968</td>\n",
       "      <td>-2.640530</td>\n",
       "      <td>0.618282</td>\n",
       "      <td>-8.728342</td>\n",
       "      <td>Wikidata</td>\n",
       "      <td>Wikidata</td>\n",
       "      <td>William Stanley</td>\n",
       "    </tr>\n",
       "    <tr>\n",
       "      <th>2</th>\n",
       "      <td>2</td>\n",
       "      <td>https://collection.sciencemuseumgroup.org.uk/objects/co138741</td>\n",
       "      <td>10.603285</td>\n",
       "      <td>1.078037</td>\n",
       "      <td>2.380662</td>\n",
       "      <td>Object</td>\n",
       "      <td>Category - Therapeutics</td>\n",
       "      <td>Hypodermic needle, Luer No.26 G, in sealed packet,</td>\n",
       "    </tr>\n",
       "    <tr>\n",
       "      <th>3</th>\n",
       "      <td>3</td>\n",
       "      <td>plastic</td>\n",
       "      <td>6.023331</td>\n",
       "      <td>5.805542</td>\n",
       "      <td>20.752670</td>\n",
       "      <td>NaN</td>\n",
       "      <td>NaN</td>\n",
       "      <td>NaN</td>\n",
       "    </tr>\n",
       "    <tr>\n",
       "      <th>4</th>\n",
       "      <td>4</td>\n",
       "      <td>https://collection.sciencemuseumgroup.org.uk/people/cp28358</td>\n",
       "      <td>-2.900928</td>\n",
       "      <td>0.211201</td>\n",
       "      <td>-7.089437</td>\n",
       "      <td>Organisation</td>\n",
       "      <td>Organisation</td>\n",
       "      <td>The Cunard Line</td>\n",
       "    </tr>\n",
       "  </tbody>\n",
       "</table>\n",
       "</div>"
      ],
      "text/plain": [
       "   index                                                             id  \\\n",
       "0      0    https://collection.sciencemuseumgroup.org.uk/people/cp28058   \n",
       "1      1                        http://www.wikidata.org/entity/Q3568968   \n",
       "2      2  https://collection.sciencemuseumgroup.org.uk/objects/co138741   \n",
       "3      3                                                        plastic   \n",
       "4      4    https://collection.sciencemuseumgroup.org.uk/people/cp28358   \n",
       "\n",
       "           x         y          z          type      collection_category  \\\n",
       "0  -2.401737  0.665359  -8.348495        Person                   Person   \n",
       "1  -2.640530  0.618282  -8.728342      Wikidata                 Wikidata   \n",
       "2  10.603285  1.078037   2.380662        Object  Category - Therapeutics   \n",
       "3   6.023331  5.805542  20.752670           NaN                      NaN   \n",
       "4  -2.900928  0.211201  -7.089437  Organisation             Organisation   \n",
       "\n",
       "                                                label  \n",
       "0                                William Ford Stanley  \n",
       "1                                     William Stanley  \n",
       "2  Hypodermic needle, Luer No.26 G, in sealed packet,  \n",
       "3                                                 NaN  \n",
       "4                                     The Cunard Line  "
      ]
     },
     "execution_count": 8,
     "metadata": {},
     "output_type": "execute_result"
    }
   ],
   "source": [
    "# create labels col\n",
    "\n",
    "def has_probably_got_label(value):\n",
    "    prefixes = [\n",
    "        \"https://collection.sciencemuseumgroup\", \n",
    "        \"http://www.wikidata.org/entity\", \n",
    "        \"https://blog.sciencemuseum.org.uk/\",\n",
    "        \"http://journal.sciencemuseum.ac.uk/\"\n",
    "    ]\n",
    "    \n",
    "    for p in prefixes:\n",
    "        if value.startswith(p): return True\n",
    "        \n",
    "    return False\n",
    "\n",
    "ids_for_label_lookup = transformed_data.loc[\n",
    "    transformed_data['id'].apply(has_probably_got_label) & (~transformed_data['type'].isna() | ~transformed_data['collection_category'].isna()),\n",
    "    \"id\"\n",
    "].tolist()\n",
    "\n",
    "id_label_mapping = {}\n",
    "\n",
    "for page in tqdm(paginate_list(ids_for_label_lookup, 5000)):\n",
    "    id_label_mapping.update(get_labels(page))\n",
    "    \n",
    "transformed_data['label'] = transformed_data['id'].map(id_label_mapping)\n",
    "\n",
    "transformed_data.head()"
   ]
  },
  {
   "cell_type": "markdown",
   "id": "0117182c-c0d4-46e6-8def-f08f008374fb",
   "metadata": {},
   "source": [
    "## 3. Export data\n",
    "\n",
    "We remove all rows which have a NaN value for both the `type` and `collection_category` columns as these will never show on the plot. The javascript powering the visualisation will still need to check for NaN values."
   ]
  },
  {
   "cell_type": "code",
   "execution_count": 9,
   "id": "ae835263-bd92-4189-921f-9bba04f22e46",
   "metadata": {},
   "outputs": [
    {
     "data": {
      "text/plain": [
       "(645565, 433571)"
      ]
     },
     "execution_count": 9,
     "metadata": {},
     "output_type": "execute_result"
    }
   ],
   "source": [
    "export_data = transformed_data[~transformed_data['collection_category'].isna() & ~transformed_data['type'].isna()]\n",
    "len(transformed_data), len(export_data)"
   ]
  },
  {
   "cell_type": "code",
   "execution_count": 10,
   "id": "3fe1e24d-73e8-4886-bbce-55c372506480",
   "metadata": {},
   "outputs": [],
   "source": [
    "export_data.to_csv(\n",
    "    \"../data/processed/final_model_dglke/umap/visualisation_data_3d.tsv\", \n",
    "    sep=\"\\t\", \n",
    "    index=False,\n",
    ")"
   ]
  },
  {
   "cell_type": "code",
   "execution_count": null,
   "id": "59be24f6-ae23-42d0-bc1b-0a2da8bddd6d",
   "metadata": {},
   "outputs": [],
   "source": []
  }
 ],
 "metadata": {
  "kernelspec": {
   "display_name": "Python 3 (ipykernel)",
   "language": "python",
   "name": "python3"
  },
  "language_info": {
   "codemirror_mode": {
    "name": "ipython",
    "version": 3
   },
   "file_extension": ".py",
   "mimetype": "text/x-python",
   "name": "python",
   "nbconvert_exporter": "python",
   "pygments_lexer": "ipython3",
   "version": "3.7.9"
  }
 },
 "nbformat": 4,
 "nbformat_minor": 5
}
