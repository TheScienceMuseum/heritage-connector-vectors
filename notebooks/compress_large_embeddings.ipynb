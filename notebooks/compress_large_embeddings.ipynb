{
 "cells": [
  {
   "cell_type": "markdown",
   "id": "e3c217ec-3d72-47d5-b028-d8b5f2c7215c",
   "metadata": {},
   "source": [
    "# Compressing large embeddings\n",
    "\n",
    "To run the `/neighbours` API we need either need to be able to store the entities vectors in RAM, or use [`faiss`'s compression methods](https://github.com/facebookresearch/faiss/wiki/Lower-memory-footprint). These compression methods consist of PCA and then quantization.\n",
    "\n",
    "For ease, we can do this PCA offline instead. Reducing from 1200 dim to 400 dim for V&A data, I noticed no quality drop in the nearest neighbours returned."
   ]
  },
  {
   "cell_type": "code",
   "execution_count": 14,
   "id": "0733aca6-cdac-404e-ad49-447d5e740be1",
   "metadata": {},
   "outputs": [],
   "source": [
    "import sys\n",
    "sys.path.append(\"..\")\n",
    "\n",
    "from src.embedding_store import KGEmbeddingStore\n",
    "import numpy as np\n",
    "from sklearn.decomposition import PCA"
   ]
  },
  {
   "cell_type": "markdown",
   "id": "4ca31ac1-7d7c-42b3-90e9-9c0c4aee4993",
   "metadata": {},
   "source": [
    "## 1. Get full-dimensioned embeddings"
   ]
  },
  {
   "cell_type": "code",
   "execution_count": 2,
   "id": "dba0677a-30b6-410d-a35c-8b340e01e47d",
   "metadata": {},
   "outputs": [
    {
     "name": "stderr",
     "output_type": "stream",
     "text": [
      "/Users/kalyan/.pyenv/versions/3.7.9/envs/hcvectors/lib/python3.7/site-packages/ipykernel_launcher.py:4: FutureWarning: The error_bad_lines argument has been deprecated and will be removed in a future version.\n",
      "\n",
      "\n",
      "  after removing the cwd from sys.path.\n"
     ]
    }
   ],
   "source": [
    "emb_store = KGEmbeddingStore.from_dglke(\n",
    "    embeddings_folder=\"../data/processed/final_model_dglke_vanda/\", \n",
    "    embeddings_file_names=[\"heritageconnector_RotatE_entity.npy\", \"heritageconnector_RotatE_relation.npy\"], \n",
    "    mappings_folder=\"../data/processed/final_model_dglke_vanda/\"\n",
    ")"
   ]
  },
  {
   "cell_type": "code",
   "execution_count": 18,
   "id": "860d86c8-d1d6-446f-aa13-841c63347bcb",
   "metadata": {},
   "outputs": [
    {
     "data": {
      "text/plain": [
       "((1208256, 1200), 5.7996288)"
      ]
     },
     "execution_count": 18,
     "metadata": {},
     "output_type": "execute_result"
    }
   ],
   "source": [
    "emb_store.ent_embedding_matrix.shape, emb_store.ent_embedding_matrix.nbytes/1e9"
   ]
  },
  {
   "cell_type": "markdown",
   "id": "2df75178-c97a-488a-9488-b33c7622e023",
   "metadata": {},
   "source": [
    "## 2. Reduce embeddings\n",
    "\n",
    "A `t3a.large` EC2 machine has 8GB RAM. Let's aim for the entities to be approx 2GB RAM to give the machine plenty of memory to do other stuff, or potentially to downgrade the machine in future.\n",
    "\n",
    "The full-dimensioned entity embedding matrix is 5.8GB (see above), so let's reduce its dimension by a third (1200dim -> 400dim)."
   ]
  },
  {
   "cell_type": "code",
   "execution_count": 6,
   "id": "b5ee6e63-a817-458d-9084-e6c9361bec11",
   "metadata": {},
   "outputs": [],
   "source": [
    "X_reduced = PCA(n_components=400, random_state=42).fit_transform(emb_store.ent_embedding_matrix)"
   ]
  },
  {
   "cell_type": "code",
   "execution_count": 17,
   "id": "f517688b-e92d-4bc6-8a11-a9ca19c5f375",
   "metadata": {},
   "outputs": [
    {
     "data": {
      "text/plain": [
       "1.9332096"
      ]
     },
     "execution_count": 17,
     "metadata": {},
     "output_type": "execute_result"
    }
   ],
   "source": [
    "X_reduced.nbytes / 1e9"
   ]
  },
  {
   "cell_type": "code",
   "execution_count": 12,
   "id": "6134a289-9a44-443d-a637-b6b4446c23a7",
   "metadata": {},
   "outputs": [],
   "source": [
    "with open(\"../data/processed/final_model_dglke_vanda/heritageconnector_RotatE_entity_reduced_400.npy\", \"wb\") as f:\n",
    "    np.save(f, X_reduced)"
   ]
  },
  {
   "cell_type": "code",
   "execution_count": null,
   "id": "488596b9-7b7a-48d6-a0e2-095d62848f35",
   "metadata": {},
   "outputs": [],
   "source": []
  }
 ],
 "metadata": {
  "kernelspec": {
   "display_name": "Python 3 (ipykernel)",
   "language": "python",
   "name": "python3"
  },
  "language_info": {
   "codemirror_mode": {
    "name": "ipython",
    "version": 3
   },
   "file_extension": ".py",
   "mimetype": "text/x-python",
   "name": "python",
   "nbconvert_exporter": "python",
   "pygments_lexer": "ipython3",
   "version": "3.7.9"
  }
 },
 "nbformat": 4,
 "nbformat_minor": 5
}
