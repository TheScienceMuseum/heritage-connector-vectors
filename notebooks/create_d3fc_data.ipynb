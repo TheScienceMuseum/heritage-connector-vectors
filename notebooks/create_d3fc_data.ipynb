{
 "cells": [
  {
   "cell_type": "markdown",
   "id": "b6322cdb-2cd0-462c-975d-6f5354354f27",
   "metadata": {},
   "source": [
    "# Creating d3fc data \n",
    "\n",
    "Here we create a TSV of UMAP-projected embeddings, alongside different groupings of these embeddings, for a 2D projection visualisation. \n",
    "\n",
    "See [./create_colour_mappings_for_vis.ipynb](./create_colour_mappings_for_vis.ipynb) first."
   ]
  },
  {
   "cell_type": "code",
   "execution_count": 1,
   "id": "5e7a5dbf-0201-430c-9e32-b5a6923e6443",
   "metadata": {},
   "outputs": [],
   "source": [
    "import glob\n",
    "from pathlib import Path\n",
    "from typing import List\n",
    "import json\n",
    "import csv\n",
    "\n",
    "import pandas as pd\n",
    "import numpy as np\n",
    "import requests\n",
    "from tqdm.auto import tqdm\n",
    "\n",
    "pd.set_option('display.max_colwidth', None)"
   ]
  },
  {
   "cell_type": "code",
   "execution_count": 3,
   "id": "251229c2-cf3c-4984-9476-ab83a31efd48",
   "metadata": {
    "tags": []
   },
   "outputs": [
    {
     "data": {
      "text/plain": [
       "{'http://www.wikidata.org/entity/Q3568968': 'William Stanley'}"
      ]
     },
     "execution_count": 3,
     "metadata": {},
     "output_type": "execute_result"
    }
   ],
   "source": [
    "def paginate_list(l, page_size):\n",
    "    return [l[i : i + page_size] for i in range(0, len(l), page_size)]\n",
    "\n",
    "def get_labels(uris: List[str]) -> dict:\n",
    "    \"\"\"Get labels for URIs using Heritage Connector API\"\"\"\n",
    "    \n",
    "    hc_api_labels_endpoint = \"http://localhost:8010/labels\"\n",
    "    headers = {'Content-Type': 'application/json'}\n",
    "    body = json.dumps({\"uris\": uris})\n",
    "    res = requests.post(hc_api_labels_endpoint, headers=headers, data=body)\n",
    "    \n",
    "    return res.json()\n",
    "\n",
    "get_labels([\"http://www.wikidata.org/entity/Q3568968\"])"
   ]
  },
  {
   "cell_type": "markdown",
   "id": "815c4561-101a-4294-978e-8a78884fbad7",
   "metadata": {},
   "source": [
    "## 1. Import data \n",
    "\n",
    "The ent-to-idx mapping created by DGL-KE, and the projected embeddings created by running the DGL-KE embeddings through UMAP."
   ]
  },
  {
   "cell_type": "code",
   "execution_count": 35,
   "id": "acfb8699-364f-471d-a5fe-4e190aa2ef8b",
   "metadata": {},
   "outputs": [
    {
     "name": "stderr",
     "output_type": "stream",
     "text": [
      "/Users/kalyan/.pyenv/versions/3.7.9/envs/hcvectors/lib/python3.7/site-packages/IPython/core/interactiveshell.py:3441: FutureWarning: The error_bad_lines argument has been deprecated and will be removed in a future version.\n",
      "\n",
      "\n",
      "  exec(code_obj, self.user_global_ns, self.user_ns)\n"
     ]
    },
    {
     "data": {
      "text/plain": [
       "((645565, 1), (645565, 2))"
      ]
     },
     "execution_count": 35,
     "metadata": {},
     "output_type": "execute_result"
    }
   ],
   "source": [
    "ENT_MAPPING_PATH = \"../data/processed/final_model_dglke/entities.tsv\"\n",
    "PROJECTED_EMBEDDINGS_PATH = \"../data/processed/final_model_dglke/umap/best_projection_n_neighbours_10.npy\"\n",
    "\n",
    "# ENT_MAPPING_PATH = \"../data/processed/final_model_dglke_vanda/entities.tsv\"\n",
    "# PROJECTED_EMBEDDINGS_PATH = \"../data/processed/final_model_dglke_vanda/umap/best_projection.npy\"\n",
    "\n",
    "ent_idx_mapping = pd.read_csv(\n",
    "    ENT_MAPPING_PATH,\n",
    "    sep=\"\\t\",\n",
    "    index_col=0,\n",
    "    header=None,\n",
    "    names=[\"value\"],\n",
    "    quoting=csv.QUOTE_NONE, \n",
    "    error_bad_lines=False,\n",
    ").fillna(\"\")\n",
    "\n",
    "projs = np.load(PROJECTED_EMBEDDINGS_PATH).astype('float32')\n",
    "\n",
    "ent_idx_mapping.shape, projs.shape"
   ]
  },
  {
   "cell_type": "markdown",
   "id": "7f205734-4eef-4573-ad0d-b6cffb21c33d",
   "metadata": {},
   "source": [
    "The various mappings from entities to groups (which will be displayed in different colours in the visualisation) created by the notebook [./create_colour_mappings_for_vis.ipynb](./create_colour_mappings_for_vis.ipynb)."
   ]
  },
  {
   "cell_type": "code",
   "execution_count": 36,
   "id": "420d6310-8075-4122-a7c5-775e2b1b7b1e",
   "metadata": {},
   "outputs": [
    {
     "name": "stdout",
     "output_type": "stream",
     "text": [
      "Loaded ../data/processed/embedding_colour_mappings/mapping_type.tsv to mappings['mapping_type']. Shape (645565, 2)\n",
      "Loaded ../data/processed/embedding_colour_mappings/mapping_hdbscan_clusters_min_size_500.tsv to mappings['mapping_hdbscan_clusters_min_size_500']. Shape (645565, 2)\n",
      "Loaded ../data/processed/embedding_colour_mappings/mapping_collection_category.tsv to mappings['mapping_collection_category']. Shape (645565, 2)\n",
      "Loaded ../data/processed/embedding_colour_mappings/mapping_database.tsv to mappings['mapping_database']. Shape (645565, 2)\n",
      "Loaded ../data/processed/embedding_colour_mappings/mapping_hdbscan_clusters_min_size_200.tsv to mappings['mapping_hdbscan_clusters_min_size_200']. Shape (645565, 2)\n"
     ]
    }
   ],
   "source": [
    "MAPPINGS_FOLDER = \"../data/processed/embedding_colour_mappings/\"\n",
    "# MAPPINGS_FOLDER = \"../data/processed/embedding_colour_mappings_vanda/\"\n",
    "\n",
    "mappings = {}\n",
    "\n",
    "for filename in glob.glob(MAPPINGS_FOLDER + \"*.tsv\"):\n",
    "    cat_name = Path(filename).stem\n",
    "    mappings[cat_name] = pd.read_csv(filename, sep=\"\\t\", index_col=0, names=[\"value\", \"group\"])\n",
    "    \n",
    "    print(f\"Loaded {filename} to mappings['{cat_name}']. Shape {mappings[cat_name].shape}\")"
   ]
  },
  {
   "cell_type": "markdown",
   "id": "2122fa14-9b30-4eff-b441-d63a847c6aee",
   "metadata": {},
   "source": [
    "## 2. Transform data\n",
    "\n",
    "We want to make a DataFrame we can export as a TSV, with columns:\n",
    "\n",
    "``` markdown\n",
    "- id\n",
    "- label\n",
    "- collection_category\n",
    "- type\n",
    "- x\n",
    "- y\n",
    "- index\n",
    "```"
   ]
  },
  {
   "cell_type": "code",
   "execution_count": 37,
   "id": "61590c5a-845f-46de-88bb-0e4b6e21d45a",
   "metadata": {},
   "outputs": [
    {
     "data": {
      "text/html": [
       "<div>\n",
       "<style scoped>\n",
       "    .dataframe tbody tr th:only-of-type {\n",
       "        vertical-align: middle;\n",
       "    }\n",
       "\n",
       "    .dataframe tbody tr th {\n",
       "        vertical-align: top;\n",
       "    }\n",
       "\n",
       "    .dataframe thead th {\n",
       "        text-align: right;\n",
       "    }\n",
       "</style>\n",
       "<table border=\"1\" class=\"dataframe\">\n",
       "  <thead>\n",
       "    <tr style=\"text-align: right;\">\n",
       "      <th></th>\n",
       "      <th>index</th>\n",
       "      <th>id</th>\n",
       "    </tr>\n",
       "  </thead>\n",
       "  <tbody>\n",
       "    <tr>\n",
       "      <th>0</th>\n",
       "      <td>0</td>\n",
       "      <td>https://collection.sciencemuseumgroup.org.uk/people/cp28058</td>\n",
       "    </tr>\n",
       "    <tr>\n",
       "      <th>1</th>\n",
       "      <td>1</td>\n",
       "      <td>http://www.wikidata.org/entity/Q3568968</td>\n",
       "    </tr>\n",
       "    <tr>\n",
       "      <th>2</th>\n",
       "      <td>2</td>\n",
       "      <td>https://collection.sciencemuseumgroup.org.uk/objects/co138741</td>\n",
       "    </tr>\n",
       "    <tr>\n",
       "      <th>3</th>\n",
       "      <td>3</td>\n",
       "      <td>plastic</td>\n",
       "    </tr>\n",
       "    <tr>\n",
       "      <th>4</th>\n",
       "      <td>4</td>\n",
       "      <td>https://collection.sciencemuseumgroup.org.uk/people/cp28358</td>\n",
       "    </tr>\n",
       "  </tbody>\n",
       "</table>\n",
       "</div>"
      ],
      "text/plain": [
       "   index                                                             id\n",
       "0      0    https://collection.sciencemuseumgroup.org.uk/people/cp28058\n",
       "1      1                        http://www.wikidata.org/entity/Q3568968\n",
       "2      2  https://collection.sciencemuseumgroup.org.uk/objects/co138741\n",
       "3      3                                                        plastic\n",
       "4      4    https://collection.sciencemuseumgroup.org.uk/people/cp28358"
      ]
     },
     "execution_count": 37,
     "metadata": {},
     "output_type": "execute_result"
    }
   ],
   "source": [
    "# create `id, index`\n",
    "transformed_data = ent_idx_mapping.copy().rename(columns={\"value\": \"id\"}).reset_index()\n",
    "\n",
    "transformed_data.head()"
   ]
  },
  {
   "cell_type": "code",
   "execution_count": 38,
   "id": "4d7e3ab7-5a02-4e08-ba9a-ebef0803c582",
   "metadata": {},
   "outputs": [
    {
     "data": {
      "text/html": [
       "<div>\n",
       "<style scoped>\n",
       "    .dataframe tbody tr th:only-of-type {\n",
       "        vertical-align: middle;\n",
       "    }\n",
       "\n",
       "    .dataframe tbody tr th {\n",
       "        vertical-align: top;\n",
       "    }\n",
       "\n",
       "    .dataframe thead th {\n",
       "        text-align: right;\n",
       "    }\n",
       "</style>\n",
       "<table border=\"1\" class=\"dataframe\">\n",
       "  <thead>\n",
       "    <tr style=\"text-align: right;\">\n",
       "      <th></th>\n",
       "      <th>index</th>\n",
       "      <th>id</th>\n",
       "      <th>x</th>\n",
       "      <th>y</th>\n",
       "    </tr>\n",
       "  </thead>\n",
       "  <tbody>\n",
       "    <tr>\n",
       "      <th>0</th>\n",
       "      <td>0</td>\n",
       "      <td>https://collection.sciencemuseumgroup.org.uk/people/cp28058</td>\n",
       "      <td>4.982193</td>\n",
       "      <td>4.177696</td>\n",
       "    </tr>\n",
       "    <tr>\n",
       "      <th>1</th>\n",
       "      <td>1</td>\n",
       "      <td>http://www.wikidata.org/entity/Q3568968</td>\n",
       "      <td>5.086479</td>\n",
       "      <td>4.084801</td>\n",
       "    </tr>\n",
       "    <tr>\n",
       "      <th>2</th>\n",
       "      <td>2</td>\n",
       "      <td>https://collection.sciencemuseumgroup.org.uk/objects/co138741</td>\n",
       "      <td>-9.554541</td>\n",
       "      <td>-5.450275</td>\n",
       "    </tr>\n",
       "    <tr>\n",
       "      <th>3</th>\n",
       "      <td>3</td>\n",
       "      <td>plastic</td>\n",
       "      <td>-3.474861</td>\n",
       "      <td>-15.172668</td>\n",
       "    </tr>\n",
       "    <tr>\n",
       "      <th>4</th>\n",
       "      <td>4</td>\n",
       "      <td>https://collection.sciencemuseumgroup.org.uk/people/cp28358</td>\n",
       "      <td>2.950962</td>\n",
       "      <td>4.017635</td>\n",
       "    </tr>\n",
       "  </tbody>\n",
       "</table>\n",
       "</div>"
      ],
      "text/plain": [
       "   index                                                             id  \\\n",
       "0      0    https://collection.sciencemuseumgroup.org.uk/people/cp28058   \n",
       "1      1                        http://www.wikidata.org/entity/Q3568968   \n",
       "2      2  https://collection.sciencemuseumgroup.org.uk/objects/co138741   \n",
       "3      3                                                        plastic   \n",
       "4      4    https://collection.sciencemuseumgroup.org.uk/people/cp28358   \n",
       "\n",
       "          x          y  \n",
       "0  4.982193   4.177696  \n",
       "1  5.086479   4.084801  \n",
       "2 -9.554541  -5.450275  \n",
       "3 -3.474861 -15.172668  \n",
       "4  2.950962   4.017635  "
      ]
     },
     "execution_count": 38,
     "metadata": {},
     "output_type": "execute_result"
    }
   ],
   "source": [
    "# create x, y\n",
    "projs_df = pd.DataFrame(projs, columns=[\"x\", \"y\"])\n",
    "transformed_data = pd.concat([transformed_data, projs_df], axis=1)\n",
    "\n",
    "transformed_data.head()"
   ]
  },
  {
   "cell_type": "code",
   "execution_count": 39,
   "id": "1ae3ca2f-3f41-4c7c-ad6a-bd2a54f977f1",
   "metadata": {},
   "outputs": [
    {
     "data": {
      "text/html": [
       "<div>\n",
       "<style scoped>\n",
       "    .dataframe tbody tr th:only-of-type {\n",
       "        vertical-align: middle;\n",
       "    }\n",
       "\n",
       "    .dataframe tbody tr th {\n",
       "        vertical-align: top;\n",
       "    }\n",
       "\n",
       "    .dataframe thead th {\n",
       "        text-align: right;\n",
       "    }\n",
       "</style>\n",
       "<table border=\"1\" class=\"dataframe\">\n",
       "  <thead>\n",
       "    <tr style=\"text-align: right;\">\n",
       "      <th></th>\n",
       "      <th>index</th>\n",
       "      <th>id</th>\n",
       "      <th>x</th>\n",
       "      <th>y</th>\n",
       "      <th>type</th>\n",
       "      <th>hdbscan_clusters_min_size_500</th>\n",
       "      <th>collection_category</th>\n",
       "      <th>hdbscan_clusters_min_size_200</th>\n",
       "    </tr>\n",
       "  </thead>\n",
       "  <tbody>\n",
       "    <tr>\n",
       "      <th>0</th>\n",
       "      <td>0</td>\n",
       "      <td>https://collection.sciencemuseumgroup.org.uk/people/cp28058</td>\n",
       "      <td>4.982193</td>\n",
       "      <td>4.177696</td>\n",
       "      <td>Person</td>\n",
       "      <td>182</td>\n",
       "      <td>Person</td>\n",
       "      <td>467</td>\n",
       "    </tr>\n",
       "    <tr>\n",
       "      <th>1</th>\n",
       "      <td>1</td>\n",
       "      <td>http://www.wikidata.org/entity/Q3568968</td>\n",
       "      <td>5.086479</td>\n",
       "      <td>4.084801</td>\n",
       "      <td>Wikidata</td>\n",
       "      <td>182</td>\n",
       "      <td>Wikidata</td>\n",
       "      <td>467</td>\n",
       "    </tr>\n",
       "    <tr>\n",
       "      <th>2</th>\n",
       "      <td>2</td>\n",
       "      <td>https://collection.sciencemuseumgroup.org.uk/objects/co138741</td>\n",
       "      <td>-9.554541</td>\n",
       "      <td>-5.450275</td>\n",
       "      <td>Object</td>\n",
       "      <td>148</td>\n",
       "      <td>Category - Therapeutics</td>\n",
       "      <td>379</td>\n",
       "    </tr>\n",
       "    <tr>\n",
       "      <th>3</th>\n",
       "      <td>3</td>\n",
       "      <td>plastic</td>\n",
       "      <td>-3.474861</td>\n",
       "      <td>-15.172668</td>\n",
       "      <td>NaN</td>\n",
       "      <td>53</td>\n",
       "      <td>NaN</td>\n",
       "      <td>-1</td>\n",
       "    </tr>\n",
       "    <tr>\n",
       "      <th>4</th>\n",
       "      <td>4</td>\n",
       "      <td>https://collection.sciencemuseumgroup.org.uk/people/cp28358</td>\n",
       "      <td>2.950962</td>\n",
       "      <td>4.017635</td>\n",
       "      <td>Organisation</td>\n",
       "      <td>-1</td>\n",
       "      <td>Organisation</td>\n",
       "      <td>-1</td>\n",
       "    </tr>\n",
       "  </tbody>\n",
       "</table>\n",
       "</div>"
      ],
      "text/plain": [
       "   index                                                             id  \\\n",
       "0      0    https://collection.sciencemuseumgroup.org.uk/people/cp28058   \n",
       "1      1                        http://www.wikidata.org/entity/Q3568968   \n",
       "2      2  https://collection.sciencemuseumgroup.org.uk/objects/co138741   \n",
       "3      3                                                        plastic   \n",
       "4      4    https://collection.sciencemuseumgroup.org.uk/people/cp28358   \n",
       "\n",
       "          x          y          type hdbscan_clusters_min_size_500  \\\n",
       "0  4.982193   4.177696        Person                           182   \n",
       "1  5.086479   4.084801      Wikidata                           182   \n",
       "2 -9.554541  -5.450275        Object                           148   \n",
       "3 -3.474861 -15.172668           NaN                            53   \n",
       "4  2.950962   4.017635  Organisation                            -1   \n",
       "\n",
       "       collection_category hdbscan_clusters_min_size_200  \n",
       "0                   Person                           467  \n",
       "1                 Wikidata                           467  \n",
       "2  Category - Therapeutics                           379  \n",
       "3                      NaN                            -1  \n",
       "4             Organisation                            -1  "
      ]
     },
     "execution_count": 39,
     "metadata": {},
     "output_type": "execute_result"
    }
   ],
   "source": [
    "# create mappings cols\n",
    "MAPPINGS_TO_ADD = [\"mapping_collection_category\", \"mapping_type\", \"mapping_hdbscan_clusters_min_size_500\", \"mapping_hdbscan_clusters_min_size_200\"]\n",
    "\n",
    "for mapping_name, mapping_df in mappings.items():\n",
    "    if mapping_name in MAPPINGS_TO_ADD:\n",
    "        new_col_name = mapping_name[8:] # remove prefix `mapping_`\n",
    "        if \"clusters\" in mapping_name:\n",
    "            mapping_df[\"group\"] = mapping_df[\"group\"].astype(str)\n",
    "        transformed_data[new_col_name] = mapping_df['group']\n",
    "        \n",
    "transformed_data.head()\n"
   ]
  },
  {
   "cell_type": "code",
   "execution_count": 28,
   "id": "bdede804-d37d-4962-b97a-e2a2b79fb567",
   "metadata": {
    "tags": []
   },
   "outputs": [
    {
     "data": {
      "application/vnd.jupyter.widget-view+json": {
       "model_id": "a30d7dc8144a494cb203d694e670413f",
       "version_major": 2,
       "version_minor": 0
      },
      "text/plain": [
       "  0%|          | 0/78 [00:00<?, ?it/s]"
      ]
     },
     "metadata": {},
     "output_type": "display_data"
    },
    {
     "data": {
      "text/html": [
       "<div>\n",
       "<style scoped>\n",
       "    .dataframe tbody tr th:only-of-type {\n",
       "        vertical-align: middle;\n",
       "    }\n",
       "\n",
       "    .dataframe tbody tr th {\n",
       "        vertical-align: top;\n",
       "    }\n",
       "\n",
       "    .dataframe thead th {\n",
       "        text-align: right;\n",
       "    }\n",
       "</style>\n",
       "<table border=\"1\" class=\"dataframe\">\n",
       "  <thead>\n",
       "    <tr style=\"text-align: right;\">\n",
       "      <th></th>\n",
       "      <th>index</th>\n",
       "      <th>id</th>\n",
       "      <th>x</th>\n",
       "      <th>y</th>\n",
       "      <th>type</th>\n",
       "      <th>collection_category</th>\n",
       "      <th>hdbscan_clusters_min_size_500</th>\n",
       "      <th>hdbscan_clusters_min_size_200</th>\n",
       "      <th>label</th>\n",
       "    </tr>\n",
       "  </thead>\n",
       "  <tbody>\n",
       "    <tr>\n",
       "      <th>0</th>\n",
       "      <td>0</td>\n",
       "      <td>http://collections.vam.ac.uk/item/O1149857</td>\n",
       "      <td>-20.524017</td>\n",
       "      <td>-2.518936</td>\n",
       "      <td>Person</td>\n",
       "      <td>Person</td>\n",
       "      <td>182</td>\n",
       "      <td>467</td>\n",
       "      <td>Photographic negative</td>\n",
       "    </tr>\n",
       "    <tr>\n",
       "      <th>1</th>\n",
       "      <td>1</td>\n",
       "      <td>http://www.wikidata.org/entity/Q7338619</td>\n",
       "      <td>-2.125868</td>\n",
       "      <td>1.472500</td>\n",
       "      <td>Wikidata</td>\n",
       "      <td>Wikidata</td>\n",
       "      <td>182</td>\n",
       "      <td>467</td>\n",
       "      <td>Riverside Studios</td>\n",
       "    </tr>\n",
       "    <tr>\n",
       "      <th>2</th>\n",
       "      <td>2</td>\n",
       "      <td>http://collections.vam.ac.uk/item/O1175446</td>\n",
       "      <td>-18.592491</td>\n",
       "      <td>-8.085658</td>\n",
       "      <td>Object</td>\n",
       "      <td>Category - Therapeutics</td>\n",
       "      <td>148</td>\n",
       "      <td>379</td>\n",
       "      <td>Emile Littler Archive</td>\n",
       "    </tr>\n",
       "    <tr>\n",
       "      <th>3</th>\n",
       "      <td>3</td>\n",
       "      <td>https://api.vam.ac.uk/v2/objects/search?id_material=AAT14233</td>\n",
       "      <td>-38.678131</td>\n",
       "      <td>10.299866</td>\n",
       "      <td>NaN</td>\n",
       "      <td>NaN</td>\n",
       "      <td>53</td>\n",
       "      <td>-1</td>\n",
       "      <td>NaN</td>\n",
       "    </tr>\n",
       "    <tr>\n",
       "      <th>4</th>\n",
       "      <td>4</td>\n",
       "      <td>http://collections.vam.ac.uk/item/O1163824</td>\n",
       "      <td>-15.649143</td>\n",
       "      <td>7.320293</td>\n",
       "      <td>Organisation</td>\n",
       "      <td>Organisation</td>\n",
       "      <td>-1</td>\n",
       "      <td>-1</td>\n",
       "      <td>Poster</td>\n",
       "    </tr>\n",
       "  </tbody>\n",
       "</table>\n",
       "</div>"
      ],
      "text/plain": [
       "   index                                                            id  \\\n",
       "0      0                    http://collections.vam.ac.uk/item/O1149857   \n",
       "1      1                       http://www.wikidata.org/entity/Q7338619   \n",
       "2      2                    http://collections.vam.ac.uk/item/O1175446   \n",
       "3      3  https://api.vam.ac.uk/v2/objects/search?id_material=AAT14233   \n",
       "4      4                    http://collections.vam.ac.uk/item/O1163824   \n",
       "\n",
       "           x          y          type      collection_category  \\\n",
       "0 -20.524017  -2.518936        Person                   Person   \n",
       "1  -2.125868   1.472500      Wikidata                 Wikidata   \n",
       "2 -18.592491  -8.085658        Object  Category - Therapeutics   \n",
       "3 -38.678131  10.299866           NaN                      NaN   \n",
       "4 -15.649143   7.320293  Organisation             Organisation   \n",
       "\n",
       "  hdbscan_clusters_min_size_500 hdbscan_clusters_min_size_200  \\\n",
       "0                           182                           467   \n",
       "1                           182                           467   \n",
       "2                           148                           379   \n",
       "3                            53                            -1   \n",
       "4                            -1                            -1   \n",
       "\n",
       "                   label  \n",
       "0  Photographic negative  \n",
       "1      Riverside Studios  \n",
       "2  Emile Littler Archive  \n",
       "3                    NaN  \n",
       "4                 Poster  "
      ]
     },
     "execution_count": 28,
     "metadata": {},
     "output_type": "execute_result"
    }
   ],
   "source": [
    "# create labels col\n",
    "\n",
    "def has_probably_got_label(value):\n",
    "    prefixes = [\n",
    "        \"https://collection.sciencemuseumgroup\", \n",
    "        \"http://www.wikidata.org/entity\", \n",
    "        \"https://blog.sciencemuseum.org.uk/\",\n",
    "        \"http://journal.sciencemuseum.ac.uk/\",\n",
    "        \"http://collections.vam.ac.uk/\",\n",
    "        \"https://api.vam.ac.uk/v2/objects/search?id_person\",\n",
    "        \"https://api.vam.ac.uk/v2/objects/search?id_organisation\",\n",
    "    ]\n",
    "    \n",
    "    for p in prefixes:\n",
    "        if value.startswith(p): return True\n",
    "        \n",
    "    return False\n",
    "\n",
    "ids_for_label_lookup = transformed_data.loc[\n",
    "    transformed_data['id'].apply(has_probably_got_label) & (~transformed_data['type'].isna() | ~transformed_data['collection_category'].isna()),\n",
    "    \"id\"\n",
    "].tolist()\n",
    "\n",
    "id_label_mapping = {}\n",
    "\n",
    "for page in tqdm(paginate_list(ids_for_label_lookup, 5000)):\n",
    "    id_label_mapping.update(get_labels(page))\n",
    "    \n",
    "transformed_data['label'] = transformed_data['id'].map(id_label_mapping)\n",
    "\n",
    "transformed_data.head()"
   ]
  },
  {
   "cell_type": "markdown",
   "id": "0117182c-c0d4-46e6-8def-f08f008374fb",
   "metadata": {},
   "source": [
    "## 3. Export data\n",
    "\n",
    "We remove all rows which have a NaN value for both the `type` and `collection_category` columns as these will never show on the plot. The javascript powering the visualisation will still need to check for NaN values."
   ]
  },
  {
   "cell_type": "code",
   "execution_count": 41,
   "id": "ae835263-bd92-4189-921f-9bba04f22e46",
   "metadata": {},
   "outputs": [
    {
     "data": {
      "text/plain": [
       "(645565, 433571)"
      ]
     },
     "execution_count": 41,
     "metadata": {},
     "output_type": "execute_result"
    }
   ],
   "source": [
    "export_data = transformed_data[~transformed_data['collection_category'].isna() & ~transformed_data['type'].isna()]\n",
    "len(transformed_data), len(export_data)"
   ]
  },
  {
   "cell_type": "code",
   "execution_count": 42,
   "id": "3fe1e24d-73e8-4886-bbce-55c372506480",
   "metadata": {},
   "outputs": [],
   "source": [
    "export_data.to_csv(\n",
    "    \"../data/processed/final_model_dglke/umap/visualisation_data_with_clusters.tsv\", \n",
    "    sep=\"\\t\", \n",
    "    index=False,\n",
    ")"
   ]
  },
  {
   "cell_type": "markdown",
   "id": "9715d0ab-cf6c-46c3-9f49-a7d6611e7da7",
   "metadata": {},
   "source": [
    "**for v&a data:** rotate 180 degrees so v&a visualisation aligns with smg"
   ]
  },
  {
   "cell_type": "code",
   "execution_count": 30,
   "id": "59be24f6-ae23-42d0-bc1b-0a2da8bddd6d",
   "metadata": {},
   "outputs": [],
   "source": [
    "\n",
    "# export_data_rotated = export_data.copy()\n",
    "# export_data_rotated[[\"x\", \"y\"]] = export_data_rotated[[\"x\", \"y\"]].applymap(lambda i: i*-1)\n",
    "\n",
    "# export_data_rotated.to_csv(\n",
    "#     \"../data/processed/final_model_dglke_vanda/umap/visualisation_data_rotated.tsv\", \n",
    "#     sep=\"\\t\", \n",
    "#     index=False,\n",
    "# )"
   ]
  },
  {
   "cell_type": "code",
   "execution_count": null,
   "id": "507cf05f-685b-4df8-9686-2c31eba6144b",
   "metadata": {},
   "outputs": [],
   "source": []
  }
 ],
 "metadata": {
  "kernelspec": {
   "display_name": "Python 3 (ipykernel)",
   "language": "python",
   "name": "python3"
  },
  "language_info": {
   "codemirror_mode": {
    "name": "ipython",
    "version": 3
   },
   "file_extension": ".py",
   "mimetype": "text/x-python",
   "name": "python",
   "nbconvert_exporter": "python",
   "pygments_lexer": "ipython3",
   "version": "3.7.9"
  }
 },
 "nbformat": 4,
 "nbformat_minor": 5
}
