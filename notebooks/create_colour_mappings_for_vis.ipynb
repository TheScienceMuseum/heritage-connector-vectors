{
 "cells": [
  {
   "cell_type": "markdown",
   "id": "52812008-1b1f-4b20-8260-265917f08464",
   "metadata": {},
   "source": [
    "## Creating colour mappings for vis\n",
    "\n",
    "Here, we use python and SPARQL to create mappings from entities to their different properties, which we can use to colour an embedding visualisation."
   ]
  },
  {
   "cell_type": "code",
   "execution_count": 20,
   "id": "eae29588-0ca3-4f0f-a3c5-5410e8f4c059",
   "metadata": {},
   "outputs": [],
   "source": [
    "import pandas as pd\n",
    "from SPARQLWrapper import SPARQLWrapper, JSON\n",
    "import os\n",
    "import csv\n",
    "from tqdm.auto import tqdm\n",
    "\n",
    "def make_sparql_request(query):\n",
    "    sparql = SPARQLWrapper(\"http://63.33.68.17:3030/heritage-connector/sparql\")\n",
    "    sparql.setQuery(query)\n",
    "    sparql.setMethod(\"POST\")\n",
    "    sparql.setReturnFormat(JSON)\n",
    "    \n",
    "    return sparql.query().convert()"
   ]
  },
  {
   "cell_type": "code",
   "execution_count": 21,
   "id": "d25382e4-7201-4fad-9ed7-e28da26a230c",
   "metadata": {},
   "outputs": [
    {
     "name": "stderr",
     "output_type": "stream",
     "text": [
      "/Users/kalyan/.pyenv/versions/3.7.9/envs/hcvectors/lib/python3.7/site-packages/IPython/core/interactiveshell.py:3441: FutureWarning: The error_bad_lines argument has been deprecated and will be removed in a future version.\n",
      "\n",
      "\n",
      "  exec(code_obj, self.user_global_ns, self.user_ns)\n"
     ]
    },
    {
     "data": {
      "text/plain": [
       "(1208256, 1)"
      ]
     },
     "execution_count": 21,
     "metadata": {},
     "output_type": "execute_result"
    }
   ],
   "source": [
    "# SMG\n",
    "ent_mapping_path = \"../data/processed/final_model_dglke/entities.tsv\"\n",
    "\n",
    "# V&A\n",
    "ent_mapping_path = \"../data/processed/final_model_dglke_vanda/entities.tsv\"\n",
    "\n",
    "ent_idx_mapping = pd.read_csv(\n",
    "    ent_mapping_path,\n",
    "    sep=\"\\t\",\n",
    "    index_col=0,\n",
    "    header=None,\n",
    "    names=[\"value\"],\n",
    "    quoting=csv.QUOTE_NONE, \n",
    "    error_bad_lines=False,\n",
    ").fillna(\"\")\n",
    "\n",
    "ent_idx_mapping.shape"
   ]
  },
  {
   "cell_type": "code",
   "execution_count": 22,
   "id": "aa60006e-a32d-4408-861f-ebe236490b8c",
   "metadata": {},
   "outputs": [
    {
     "data": {
      "text/html": [
       "<div>\n",
       "<style scoped>\n",
       "    .dataframe tbody tr th:only-of-type {\n",
       "        vertical-align: middle;\n",
       "    }\n",
       "\n",
       "    .dataframe tbody tr th {\n",
       "        vertical-align: top;\n",
       "    }\n",
       "\n",
       "    .dataframe thead th {\n",
       "        text-align: right;\n",
       "    }\n",
       "</style>\n",
       "<table border=\"1\" class=\"dataframe\">\n",
       "  <thead>\n",
       "    <tr style=\"text-align: right;\">\n",
       "      <th></th>\n",
       "      <th>value</th>\n",
       "    </tr>\n",
       "  </thead>\n",
       "  <tbody>\n",
       "    <tr>\n",
       "      <th>0</th>\n",
       "      <td>http://collections.vam.ac.uk/item/O1149857</td>\n",
       "    </tr>\n",
       "    <tr>\n",
       "      <th>1</th>\n",
       "      <td>http://www.wikidata.org/entity/Q7338619</td>\n",
       "    </tr>\n",
       "    <tr>\n",
       "      <th>2</th>\n",
       "      <td>http://collections.vam.ac.uk/item/O1175446</td>\n",
       "    </tr>\n",
       "    <tr>\n",
       "      <th>3</th>\n",
       "      <td>https://api.vam.ac.uk/v2/objects/search?id_mat...</td>\n",
       "    </tr>\n",
       "    <tr>\n",
       "      <th>4</th>\n",
       "      <td>http://collections.vam.ac.uk/item/O1163824</td>\n",
       "    </tr>\n",
       "  </tbody>\n",
       "</table>\n",
       "</div>"
      ],
      "text/plain": [
       "                                               value\n",
       "0         http://collections.vam.ac.uk/item/O1149857\n",
       "1            http://www.wikidata.org/entity/Q7338619\n",
       "2         http://collections.vam.ac.uk/item/O1175446\n",
       "3  https://api.vam.ac.uk/v2/objects/search?id_mat...\n",
       "4         http://collections.vam.ac.uk/item/O1163824"
      ]
     },
     "execution_count": 22,
     "metadata": {},
     "output_type": "execute_result"
    }
   ],
   "source": [
    "ent_idx_mapping.head()"
   ]
  },
  {
   "cell_type": "markdown",
   "id": "1064dff1-904f-46b5-bd09-0bdfca1cc741",
   "metadata": {},
   "source": [
    "### 1. By database\n",
    "\n",
    "categories: collection, journal, blog, Wikidata, V&A, "
   ]
  },
  {
   "cell_type": "code",
   "execution_count": 23,
   "id": "3ce06fbb-5d19-46e0-aaea-40fd24212dd9",
   "metadata": {},
   "outputs": [
    {
     "data": {
      "text/html": [
       "<div>\n",
       "<style scoped>\n",
       "    .dataframe tbody tr th:only-of-type {\n",
       "        vertical-align: middle;\n",
       "    }\n",
       "\n",
       "    .dataframe tbody tr th {\n",
       "        vertical-align: top;\n",
       "    }\n",
       "\n",
       "    .dataframe thead th {\n",
       "        text-align: right;\n",
       "    }\n",
       "</style>\n",
       "<table border=\"1\" class=\"dataframe\">\n",
       "  <thead>\n",
       "    <tr style=\"text-align: right;\">\n",
       "      <th></th>\n",
       "      <th>value</th>\n",
       "      <th>group</th>\n",
       "    </tr>\n",
       "  </thead>\n",
       "  <tbody>\n",
       "    <tr>\n",
       "      <th>0</th>\n",
       "      <td>http://collections.vam.ac.uk/item/O1149857</td>\n",
       "      <td>V&amp;A</td>\n",
       "    </tr>\n",
       "    <tr>\n",
       "      <th>1</th>\n",
       "      <td>http://www.wikidata.org/entity/Q7338619</td>\n",
       "      <td>Wikidata</td>\n",
       "    </tr>\n",
       "    <tr>\n",
       "      <th>2</th>\n",
       "      <td>http://collections.vam.ac.uk/item/O1175446</td>\n",
       "      <td>V&amp;A</td>\n",
       "    </tr>\n",
       "    <tr>\n",
       "      <th>3</th>\n",
       "      <td>https://api.vam.ac.uk/v2/objects/search?id_mat...</td>\n",
       "      <td>V&amp;A</td>\n",
       "    </tr>\n",
       "    <tr>\n",
       "      <th>4</th>\n",
       "      <td>http://collections.vam.ac.uk/item/O1163824</td>\n",
       "      <td>V&amp;A</td>\n",
       "    </tr>\n",
       "  </tbody>\n",
       "</table>\n",
       "</div>"
      ],
      "text/plain": [
       "                                               value     group\n",
       "0         http://collections.vam.ac.uk/item/O1149857       V&A\n",
       "1            http://www.wikidata.org/entity/Q7338619  Wikidata\n",
       "2         http://collections.vam.ac.uk/item/O1175446       V&A\n",
       "3  https://api.vam.ac.uk/v2/objects/search?id_mat...       V&A\n",
       "4         http://collections.vam.ac.uk/item/O1163824       V&A"
      ]
     },
     "execution_count": 23,
     "metadata": {},
     "output_type": "execute_result"
    }
   ],
   "source": [
    "def map_to_database(l):\n",
    "    if 'collection.sciencemuseumgroup' in l:\n",
    "        return 'SMG'\n",
    "    elif 'blog.sciencemuseum' in l:\n",
    "        return 'SMG blog'\n",
    "    elif 'journal.sciencemuseum' in l:\n",
    "        return 'SMG journal'\n",
    "    elif 'wikidata.org/entity' in l:\n",
    "        return 'Wikidata'\n",
    "    elif ('https://api.vam.ac.uk/v2/objects/search' in l) or ('http://collections.vam.ac.uk/item' in l):\n",
    "        return 'V&A'\n",
    "    else:\n",
    "        return None\n",
    "\n",
    "\n",
    "mapping_database = ent_idx_mapping.copy()\n",
    "mapping_database['group'] = mapping_database['value'].apply(map_to_database)\n",
    "\n",
    "mapping_database.head()"
   ]
  },
  {
   "cell_type": "markdown",
   "id": "27c1c17e-bee5-4989-8f11-196ed7bf77e1",
   "metadata": {},
   "source": [
    "## 2. By type (org/person/object etc)\n",
    "\n",
    "categories: SMG/V&A person, SMG/V&A organisation, SMG/V&A object, blog, journal, Wikidata entity"
   ]
  },
  {
   "cell_type": "code",
   "execution_count": 5,
   "id": "7e1a3188-076d-4a09-a07c-9278135c4593",
   "metadata": {},
   "outputs": [],
   "source": [
    "type_query = \"\"\"PREFIX skos: <http://www.w3.org/2004/02/skos/core#>\n",
    "SELECT DISTINCT ?s ?o WHERE {        \n",
    "  ?s skos:hasTopConcept ?o.\n",
    "}\n",
    "\"\"\"\n",
    "\n",
    "res = make_sparql_request(type_query)"
   ]
  },
  {
   "cell_type": "code",
   "execution_count": 11,
   "id": "b99738ea-a906-44ec-84f4-78d4e6838216",
   "metadata": {},
   "outputs": [
    {
     "data": {
      "text/html": [
       "<div>\n",
       "<style scoped>\n",
       "    .dataframe tbody tr th:only-of-type {\n",
       "        vertical-align: middle;\n",
       "    }\n",
       "\n",
       "    .dataframe tbody tr th {\n",
       "        vertical-align: top;\n",
       "    }\n",
       "\n",
       "    .dataframe thead th {\n",
       "        text-align: right;\n",
       "    }\n",
       "</style>\n",
       "<table border=\"1\" class=\"dataframe\">\n",
       "  <thead>\n",
       "    <tr style=\"text-align: right;\">\n",
       "      <th></th>\n",
       "      <th>value</th>\n",
       "      <th>group</th>\n",
       "    </tr>\n",
       "  </thead>\n",
       "  <tbody>\n",
       "    <tr>\n",
       "      <th>0</th>\n",
       "      <td>http://collections.vam.ac.uk/item/O1149857</td>\n",
       "      <td>Object</td>\n",
       "    </tr>\n",
       "    <tr>\n",
       "      <th>1</th>\n",
       "      <td>http://www.wikidata.org/entity/Q7338619</td>\n",
       "      <td>Wikidata</td>\n",
       "    </tr>\n",
       "    <tr>\n",
       "      <th>2</th>\n",
       "      <td>http://collections.vam.ac.uk/item/O1175446</td>\n",
       "      <td>Object</td>\n",
       "    </tr>\n",
       "    <tr>\n",
       "      <th>3</th>\n",
       "      <td>https://api.vam.ac.uk/v2/objects/search?id_mat...</td>\n",
       "      <td>NaN</td>\n",
       "    </tr>\n",
       "    <tr>\n",
       "      <th>4</th>\n",
       "      <td>http://collections.vam.ac.uk/item/O1163824</td>\n",
       "      <td>Object</td>\n",
       "    </tr>\n",
       "  </tbody>\n",
       "</table>\n",
       "</div>"
      ],
      "text/plain": [
       "                                               value     group\n",
       "0         http://collections.vam.ac.uk/item/O1149857    Object\n",
       "1            http://www.wikidata.org/entity/Q7338619  Wikidata\n",
       "2         http://collections.vam.ac.uk/item/O1175446    Object\n",
       "3  https://api.vam.ac.uk/v2/objects/search?id_mat...       NaN\n",
       "4         http://collections.vam.ac.uk/item/O1163824    Object"
      ]
     },
     "execution_count": 11,
     "metadata": {},
     "output_type": "execute_result"
    }
   ],
   "source": [
    "# TODO: use the above skos:hasTopConcept results as a starting point for this instead of the blank mappings\n",
    "\n",
    "res_df = pd.json_normalize(res['results']['bindings'])[['s.value', 'o.value']]\n",
    "mapping_type = ent_idx_mapping.copy()\n",
    "\n",
    "mapping_type = pd.merge(\n",
    "    left=mapping_type, \n",
    "    right=res_df, \n",
    "    left_on=\"value\",\n",
    "    right_on=\"s.value\",\n",
    "    how=\"left\"\n",
    ")[['value', 'o.value']].rename(columns={'o.value': 'group'})\n",
    "\n",
    "mapping_type.loc[mapping_type['value'].str.startswith(\"http://www.wikidata.org/entity\"), \"group\"] = 'WIKIDATA'\n",
    "mapping_type['group'] = mapping_type['group'].apply(lambda i: i.title().replace(\"_\", \" \") if str(i) != \"nan\" else i)\n",
    "mapping_type.head()"
   ]
  },
  {
   "cell_type": "markdown",
   "id": "4a3e48ac-3737-40f4-a2eb-67ef3e144ec2",
   "metadata": {},
   "source": [
    "### 2.1 V&A - distinguish between V&A people/orgs/objects and SMG people/orgs/objects"
   ]
  },
  {
   "cell_type": "code",
   "execution_count": 14,
   "id": "ecd3c6f8-341a-4fff-a95b-b46d9850bd96",
   "metadata": {},
   "outputs": [
    {
     "data": {
      "application/vnd.jupyter.widget-view+json": {
       "model_id": "f88b37c2236f4b67bb18015cd8136803",
       "version_major": 2,
       "version_minor": 0
      },
      "text/plain": [
       "  0%|          | 0/694576 [00:00<?, ?it/s]"
      ]
     },
     "metadata": {},
     "output_type": "display_data"
    }
   ],
   "source": [
    "mapping_type_tochange = mapping_type[mapping_type[\"group\"].isin([\"Object\", \"Organisation\", \"Person\"])]\n",
    "                                     \n",
    "for idx, row in tqdm(mapping_type_tochange.iterrows(), total=len(mapping_type_tochange)):\n",
    "    mapping_type.loc[idx, \"group\"] = f\"{mapping_type.loc[idx, 'group']} - {mapping_database.loc[idx, 'group']}\""
   ]
  },
  {
   "cell_type": "markdown",
   "id": "db747e9e-5a8c-4462-8595-f210ee7a473f",
   "metadata": {},
   "source": [
    "## 3. By part of collection (SMG internal collection categories)\n",
    "\n",
    "For this one we use SPARQL with the predicate `sdo:isPartOf`. We keep the `skos:hasTopConcept` value for any entity which doesn't have a `sdo:isPartOf` value (i.e. is not a collection object)."
   ]
  },
  {
   "cell_type": "code",
   "execution_count": 16,
   "id": "8d1ce1a5-8c94-4b72-b282-09436488ec5c",
   "metadata": {},
   "outputs": [],
   "source": [
    "collection_query = \"\"\"PREFIX sdo: <https://schema.org/>\n",
    "SELECT DISTINCT ?s ?o WHERE {        \n",
    "  ?s sdo:isPartOf ?o.\n",
    "}\n",
    "\"\"\"\n",
    "\n",
    "collection_res = make_sparql_request(collection_query)"
   ]
  },
  {
   "cell_type": "code",
   "execution_count": 17,
   "id": "2fe2de59-10ac-4d5e-bb18-a4747b5c1d7b",
   "metadata": {},
   "outputs": [
    {
     "data": {
      "text/html": [
       "<div>\n",
       "<style scoped>\n",
       "    .dataframe tbody tr th:only-of-type {\n",
       "        vertical-align: middle;\n",
       "    }\n",
       "\n",
       "    .dataframe tbody tr th {\n",
       "        vertical-align: top;\n",
       "    }\n",
       "\n",
       "    .dataframe thead th {\n",
       "        text-align: right;\n",
       "    }\n",
       "</style>\n",
       "<table border=\"1\" class=\"dataframe\">\n",
       "  <thead>\n",
       "    <tr style=\"text-align: right;\">\n",
       "      <th></th>\n",
       "      <th>value</th>\n",
       "      <th>group</th>\n",
       "    </tr>\n",
       "  </thead>\n",
       "  <tbody>\n",
       "    <tr>\n",
       "      <th>0</th>\n",
       "      <td>http://collections.vam.ac.uk/item/O1149857</td>\n",
       "      <td>Category - THES48602 - Theatre and Performance...</td>\n",
       "    </tr>\n",
       "    <tr>\n",
       "      <th>1</th>\n",
       "      <td>http://www.wikidata.org/entity/Q7338619</td>\n",
       "      <td>Wikidata</td>\n",
       "    </tr>\n",
       "    <tr>\n",
       "      <th>2</th>\n",
       "      <td>http://collections.vam.ac.uk/item/O1175446</td>\n",
       "      <td>Category - THES48602 - Theatre and Performance...</td>\n",
       "    </tr>\n",
       "    <tr>\n",
       "      <th>3</th>\n",
       "      <td>https://api.vam.ac.uk/v2/objects/search?id_mat...</td>\n",
       "      <td>NaN</td>\n",
       "    </tr>\n",
       "    <tr>\n",
       "      <th>4</th>\n",
       "      <td>http://collections.vam.ac.uk/item/O1163824</td>\n",
       "      <td>Category - THES48602 - Theatre and Performance...</td>\n",
       "    </tr>\n",
       "  </tbody>\n",
       "</table>\n",
       "</div>"
      ],
      "text/plain": [
       "                                               value  \\\n",
       "0         http://collections.vam.ac.uk/item/O1149857   \n",
       "1            http://www.wikidata.org/entity/Q7338619   \n",
       "2         http://collections.vam.ac.uk/item/O1175446   \n",
       "3  https://api.vam.ac.uk/v2/objects/search?id_mat...   \n",
       "4         http://collections.vam.ac.uk/item/O1163824   \n",
       "\n",
       "                                               group  \n",
       "0  Category - THES48602 - Theatre and Performance...  \n",
       "1                                           Wikidata  \n",
       "2  Category - THES48602 - Theatre and Performance...  \n",
       "3                                                NaN  \n",
       "4  Category - THES48602 - Theatre and Performance...  "
      ]
     },
     "execution_count": 17,
     "metadata": {},
     "output_type": "execute_result"
    }
   ],
   "source": [
    "collection_res_df = pd.json_normalize(collection_res['results']['bindings'])[['s.value', 'o.value']]\n",
    "mapping_collection_category = ent_idx_mapping.copy()\n",
    "\n",
    "mapping_collection_category = pd.merge(\n",
    "    left=mapping_collection_category, \n",
    "    right=collection_res_df, \n",
    "    left_on=\"value\",\n",
    "    right_on=\"s.value\",\n",
    "    how=\"left\"\n",
    ")[['value', 'o.value']].rename(columns={'o.value': 'group'})\n",
    "\n",
    "mapping_collection_category['group'] = mapping_collection_category['group'].apply(lambda i: \"Category - \" + str(i) if str(i)!= \"nan\" else i)\n",
    "mapping_collection_category['group'] = mapping_collection_category['group'].combine_first(mapping_type['group'])\n",
    "\n",
    "mapping_collection_category.head()"
   ]
  },
  {
   "cell_type": "markdown",
   "id": "a97a02e8-c241-45b1-85a2-741fe03129a3",
   "metadata": {},
   "source": [
    "## 4. Export mappings"
   ]
  },
  {
   "cell_type": "code",
   "execution_count": 18,
   "id": "e6e7daa8-6fad-4bd9-86b7-ac6f943b69ef",
   "metadata": {},
   "outputs": [],
   "source": [
    "export_dir = \"../data/processed/embedding_colour_mappings_vanda\"\n",
    "\n",
    "if not os.path.exists(export_dir): os.mkdir(export_dir)"
   ]
  },
  {
   "cell_type": "code",
   "execution_count": 19,
   "id": "42d8a22e-f3b6-4f65-9d4d-07a6d1eaaeb0",
   "metadata": {},
   "outputs": [],
   "source": [
    "def export_mapping(mapping_df, filename):\n",
    "    mapping_df.to_csv(os.path.join(export_dir, filename), sep=\"\\t\", header=None)\n",
    "    \n",
    "export_mapping(mapping_database, 'mapping_database.tsv')\n",
    "export_mapping(mapping_type, 'mapping_type.tsv')\n",
    "export_mapping(mapping_collection_category, 'mapping_collection_category.tsv')"
   ]
  },
  {
   "cell_type": "code",
   "execution_count": null,
   "id": "4c30d815-f65e-490a-ae1e-89489a8c3518",
   "metadata": {},
   "outputs": [],
   "source": []
  }
 ],
 "metadata": {
  "kernelspec": {
   "display_name": "Python 3 (ipykernel)",
   "language": "python",
   "name": "python3"
  },
  "language_info": {
   "codemirror_mode": {
    "name": "ipython",
    "version": 3
   },
   "file_extension": ".py",
   "mimetype": "text/x-python",
   "name": "python",
   "nbconvert_exporter": "python",
   "pygments_lexer": "ipython3",
   "version": "3.7.9"
  }
 },
 "nbformat": 4,
 "nbformat_minor": 5
}
