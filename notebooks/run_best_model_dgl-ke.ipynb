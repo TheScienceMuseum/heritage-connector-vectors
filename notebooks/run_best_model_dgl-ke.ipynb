{
 "cells": [
  {
   "cell_type": "markdown",
   "source": [
    "# Run best model\n",
    "\n",
    "Take model config from best model in `dglke_results` and train a model with the same parameters on the full dataset.\n"
   ],
   "metadata": {}
  },
  {
   "cell_type": "code",
   "execution_count": 3,
   "source": [
    "import numpy as np\n",
    "import itertools\n",
    "import datetime\n",
    "import json\n",
    "import os"
   ],
   "outputs": [],
   "metadata": {}
  },
  {
   "cell_type": "markdown",
   "source": [
    "## 1. Get parameters"
   ],
   "metadata": {}
  },
  {
   "cell_type": "code",
   "execution_count": 8,
   "source": [
    "# SMG\n",
    "best_model_config = \"RotatE_heritageconnector_10\"\n",
    "\n",
    "# V&A\n",
    "best_model_config = \"RotatE_heritageconnector_2\"\n",
    "\n",
    "with open(f\"./dglke_results/{best_model_config}/config.json\") as f:\n",
    "    p = json.load(f)"
   ],
   "outputs": [],
   "metadata": {}
  },
  {
   "cell_type": "code",
   "execution_count": 12,
   "source": [
    "p"
   ],
   "outputs": [
    {
     "output_type": "execute_result",
     "data": {
      "text/plain": [
       "{'dataset': 'heritageconnector',\n",
       " 'model': 'RotatE',\n",
       " 'emb_size': 400,\n",
       " 'max_train_step': 262564,\n",
       " 'batch_size': 8000,\n",
       " 'neg_sample_size': 10,\n",
       " 'lr': 0.01,\n",
       " 'gamma': 5.0,\n",
       " 'double_ent': True,\n",
       " 'double_rel': False,\n",
       " 'neg_adversarial_sampling': True,\n",
       " 'adversarial_temperature': 1.0,\n",
       " 'regularization_coef': 2e-06,\n",
       " 'regularization_norm': 3,\n",
       " 'emap_file': 'entities.tsv',\n",
       " 'rmap_file': 'relations.tsv'}"
      ]
     },
     "metadata": {},
     "execution_count": 12
    }
   ],
   "metadata": {}
  },
  {
   "cell_type": "markdown",
   "source": [
    "## 2. Run DGL-KE on each of the parameter sets"
   ],
   "metadata": {}
  },
  {
   "cell_type": "code",
   "execution_count": 18,
   "source": [
    "# fixed params\n",
    "DATA_PATH = \"../data/interim/\"\n",
    "TRAIN_FILENAME = \"triples_filtered_by_predicate.csv\"\n",
    "SAVE_AND_LOGS_PATH=\"./dglke_best_model\"\n",
    "DATASET=\"heritageconnector\"\n",
    "FORMAT=\"raw_udd_hrt\"\n",
    "\n",
    "LOG_INTERVAL=10000\n",
    "BATCH_SIZE_EVAL=16\n",
    "NEG_SAMPLE_SIZE_EVAL=1000\n",
    "N_EPOCHS=1000\n",
    "# SMG\n",
    "# N_TRIPLES=2793238 # 19.07\n",
    "# V&A\n",
    "N_TRIPLES=5095636\n"
   ],
   "outputs": [],
   "metadata": {}
  },
  {
   "cell_type": "code",
   "execution_count": 19,
   "source": [
    "# delete old results and logs folders\n",
    "! rm -rf {SAVE_AND_LOGS_PATH}"
   ],
   "outputs": [],
   "metadata": {}
  },
  {
   "cell_type": "code",
   "execution_count": 20,
   "source": [
    "# run experiment\n",
    "\n",
    "!mkdir dglke_best_model\n",
    "\n",
    "\"\"\"\n",
    "Explanation for (some) parameters:\n",
    "- max_step: we convert from n_epochs to n_steps by doing n_epochs*(n_triples/batch_size)\n",
    "- de: double entity dimension, as RotatE entities have a complex representation\n",
    "\"\"\"\n",
    "\n",
    "print(f\"---TRAINING {best_model_config}---\")\n",
    "\n",
    "filename = f\"{SAVE_AND_LOGS_PATH}/logs.txt\"\n",
    "neg_adv_flag = '-adv' if p['neg_adversarial_sampling'] else ''\n",
    "\n",
    "!DGLBACKEND=pytorch dglke_train --model_name {p['model']} -de --data_path {DATA_PATH} --save_path {SAVE_AND_LOGS_PATH} --dataset {DATASET} --format {FORMAT} \\\n",
    "--data_files {TRAIN_FILENAME} --delimiter '\t' --max_step {int(N_TRIPLES/p['batch_size']*N_EPOCHS)} \\\n",
    "--log_interval {LOG_INTERVAL} --batch_size {p['batch_size']} --neg_sample_size {p['neg_sample_size']} \\\n",
    "--lr {p['lr']} {neg_adv_flag} --hidden_dim {p['emb_size']} -rc {p['regularization_coef']} -g {p['gamma']} \\\n",
    "--gpu 0 --mix_cpu_gpu --async_update |& tee {filename}\n"
   ],
   "outputs": [
    {
     "output_type": "stream",
     "name": "stdout",
     "text": [
      "---TRAINING RotatE_heritageconnector_10---\n",
      "!DGLBACKEND=pytorch dglke_train --model_name RotatE --data_path ../data/interim/ --save_path ./dglke_best_model --dataset heritageconnector --format raw_udd_hrt --data_files triples_filtered_by_predicate.csv --delimiter '\t' --max_step 349154 --log_interval 10000 --batch_size 8000 --neg_sample_size 10 --lr 0.01 -adv --hidden_dim 400 -rc 2e-06 -g 5.0 --gpu 0 --mix_cpu_gpu --async_update |& tee ./dglke_best_model/logs.txt\n"
     ]
    }
   ],
   "metadata": {
    "tags": []
   }
  },
  {
   "cell_type": "code",
   "execution_count": null,
   "source": [],
   "outputs": [],
   "metadata": {}
  }
 ],
 "metadata": {
  "kernelspec": {
   "display_name": "Python 3 (ipykernel)",
   "language": "python",
   "name": "python3"
  },
  "language_info": {
   "codemirror_mode": {
    "name": "ipython",
    "version": 3
   },
   "file_extension": ".py",
   "mimetype": "text/x-python",
   "name": "python",
   "nbconvert_exporter": "python",
   "pygments_lexer": "ipython3",
   "version": "3.7.9"
  }
 },
 "nbformat": 4,
 "nbformat_minor": 4
}