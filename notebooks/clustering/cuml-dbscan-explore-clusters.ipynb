{
 "cells": [
  {
   "cell_type": "markdown",
   "id": "bd43cf9b-d558-4acb-aedd-4c31f7d7b4c3",
   "metadata": {},
   "source": [
    "## exploring clusters created using `cuml`\n"
   ]
  },
  {
   "cell_type": "code",
   "execution_count": null,
   "id": "17b0960a-ec40-46ea-9b37-6201aa2b2ad1",
   "metadata": {},
   "outputs": [],
   "source": [
    "!pip install seaborn"
   ]
  },
  {
   "cell_type": "code",
   "execution_count": 90,
   "id": "68d7c8c3-4971-40f4-8e61-364bf0a4f4a3",
   "metadata": {},
   "outputs": [
    {
     "name": "stdout",
     "output_type": "stream",
     "text": [
      "The autoreload extension is already loaded. To reload it, use:\n",
      "  %reload_ext autoreload\n"
     ]
    }
   ],
   "source": [
    "%load_ext autoreload\n",
    "%autoreload 2\n",
    "\n",
    "import glob\n",
    "\n",
    "import numpy as np\n",
    "import seaborn as sns\n",
    "import matplotlib.pyplot as plt\n",
    "import pandas as pd\n",
    "\n",
    "import utils\n"
   ]
  },
  {
   "cell_type": "code",
   "execution_count": 56,
   "id": "86819973-49b4-45a9-9503-fa58bd3de4e1",
   "metadata": {},
   "outputs": [
    {
     "data": {
      "text/plain": [
       "(645565, 800)"
      ]
     },
     "execution_count": 56,
     "metadata": {},
     "output_type": "execute_result"
    }
   ],
   "source": [
    "# load embeddings matrix using KGEmbeddingStore class\n",
    "emb_store = utils.load_embedding_store()\n",
    "X = emb_store.ent_embedding_matrix\n",
    "dim = X.shape[1]\n",
    "\n",
    "X.shape"
   ]
  },
  {
   "cell_type": "code",
   "execution_count": 55,
   "id": "c36fdc77-77f7-425f-bcd5-4f9a08996638",
   "metadata": {},
   "outputs": [
    {
     "name": "stdout",
     "output_type": "stream",
     "text": [
      "loaded EPS_0.5 - 113 clusters - 645236 not clustered\n",
      "loaded EPS_0.25 - 26267 clusters - 271287 not clustered\n"
     ]
    }
   ],
   "source": [
    "# load cluster results. These map each row to a cluster ID.\n",
    "cluster_files = glob.glob(\"dbscan_cluster_idxs_*.txt\")\n",
    "cluster_idxs = dict()\n",
    "\n",
    "for file in cluster_files:\n",
    "    idxname = file[20:-4]\n",
    "    with open(file, \"r\") as f:\n",
    "        cluster_idxs[idxname] = np.loadtxt(f)\n",
    "        \n",
    "    no_clusters = len(np.unique(cluster_idxs[idxname])) - 1\n",
    "    no_not_clustered = len(np.where(cluster_idxs[idxname] < 1)[0])\n",
    "    print(f\"loaded {idxname} - {no_clusters} clusters - {no_not_clustered} not clustered\")"
   ]
  },
  {
   "cell_type": "markdown",
   "id": "c3a7d530-7abf-4462-a04a-2e9eb01466a2",
   "metadata": {},
   "source": [
    "## 1. Cluster size distribution"
   ]
  },
  {
   "cell_type": "code",
   "execution_count": 85,
   "id": "9d99369d-5c6a-4c96-91aa-e12ca7857166",
   "metadata": {},
   "outputs": [
    {
     "name": "stderr",
     "output_type": "stream",
     "text": [
      "/Users/kalyan/.pyenv/versions/3.7.9/envs/hcvectors/lib/python3.7/site-packages/seaborn/_decorators.py:43: FutureWarning: Pass the following variable as a keyword arg: x. From version 0.12, the only valid positional argument will be `data`, and passing other arguments without an explicit keyword will result in an error or misinterpretation.\n",
      "  FutureWarning\n",
      "/Users/kalyan/.pyenv/versions/3.7.9/envs/hcvectors/lib/python3.7/site-packages/seaborn/_decorators.py:43: FutureWarning: Pass the following variable as a keyword arg: x. From version 0.12, the only valid positional argument will be `data`, and passing other arguments without an explicit keyword will result in an error or misinterpretation.\n",
      "  FutureWarning\n"
     ]
    },
    {
     "data": {
      "image/png": "[encoded data removed]",
      "text/plain": [
       "<Figure size 1440x720 with 2 Axes>"
      ]
     },
     "metadata": {
      "needs_background": "light"
     },
     "output_type": "display_data"
    }
   ],
   "source": [
    "fig, axs = plt.subplots(ncols=len(cluster_files), figsize=(10*len(cluster_files),10))\n",
    "\n",
    "idx = 0\n",
    "\n",
    "for k, v in cluster_idxs.items():\n",
    "    v_clustered = v[np.where(v > 0)]\n",
    "    unique, counts = np.unique(v, return_counts=True)\n",
    "    sns.violinplot(counts, ax=axs[idx], cut=0).set_title(k)\n",
    "    idx+=1"
   ]
  },
  {
   "cell_type": "markdown",
   "id": "4cfa06b3-1d8f-49c6-a621-d41129025234",
   "metadata": {},
   "source": [
    "## 2. Viewing individual clusters"
   ]
  },
  {
   "cell_type": "code",
   "execution_count": 100,
   "id": "ffa76216-5f17-47d7-a4b5-55366b5d68c4",
   "metadata": {},
   "outputs": [
    {
     "name": "stdout",
     "output_type": "stream",
     "text": [
      "<no label> - river avon\n",
      "<no label> - the portishead dock\n"
     ]
    }
   ],
   "source": [
    "def show_cluster(idx, cluster_name):\n",
    "    cluster_entities = emb_store.idxs_to_entities(\n",
    "        np.where(cluster_idxs[cluster_name] == idx)\n",
    "    )\n",
    "\n",
    "    cluster_urls = [i for i in cluster_entities if i.startswith(\"http\")]\n",
    "    cluster_label_mapping = utils.get_labels(cluster_urls)\n",
    "    cluster_labels = [cluster_label_mapping.get(ent, \"<no label>\") for ent in cluster_entities]\n",
    "    \n",
    "    print(\"\\n\".join([f\"{cluster_labels[i]} - {cluster_entities[i]}\" for i in range(len(cluster_entities))]))\n",
    "    \n",
    "###\n",
    "    \n",
    "idx = 94\n",
    "cluster_name = \"EPS_0.5\"    \n",
    "\n",
    "show_cluster(idx, cluster_name)"
   ]
  },
  {
   "cell_type": "markdown",
   "id": "dacc3a06-99d1-4f2c-8feb-fc1a5926b874",
   "metadata": {},
   "source": [
    "## 3. Viewing clusters on the UMAP plot"
   ]
  },
  {
   "cell_type": "code",
   "execution_count": 104,
   "id": "5dbce575-27f4-48d8-a13b-6ea395f12db8",
   "metadata": {},
   "outputs": [
    {
     "data": {
      "text/html": [
       "<div>\n",
       "<style scoped>\n",
       "    .dataframe tbody tr th:only-of-type {\n",
       "        vertical-align: middle;\n",
       "    }\n",
       "\n",
       "    .dataframe tbody tr th {\n",
       "        vertical-align: top;\n",
       "    }\n",
       "\n",
       "    .dataframe thead th {\n",
       "        text-align: right;\n",
       "    }\n",
       "</style>\n",
       "<table border=\"1\" class=\"dataframe\">\n",
       "  <thead>\n",
       "    <tr style=\"text-align: right;\">\n",
       "      <th></th>\n",
       "      <th>x</th>\n",
       "      <th>y</th>\n",
       "      <th>EPS_0.5</th>\n",
       "      <th>EPS_0.25</th>\n",
       "    </tr>\n",
       "  </thead>\n",
       "  <tbody>\n",
       "    <tr>\n",
       "      <th>0</th>\n",
       "      <td>4.982193</td>\n",
       "      <td>4.177696</td>\n",
       "      <td>0</td>\n",
       "      <td>0</td>\n",
       "    </tr>\n",
       "    <tr>\n",
       "      <th>1</th>\n",
       "      <td>5.086479</td>\n",
       "      <td>4.084801</td>\n",
       "      <td>0</td>\n",
       "      <td>-1</td>\n",
       "    </tr>\n",
       "    <tr>\n",
       "      <th>2</th>\n",
       "      <td>-9.554541</td>\n",
       "      <td>-5.450275</td>\n",
       "      <td>0</td>\n",
       "      <td>1</td>\n",
       "    </tr>\n",
       "    <tr>\n",
       "      <th>3</th>\n",
       "      <td>-3.474861</td>\n",
       "      <td>-15.172668</td>\n",
       "      <td>0</td>\n",
       "      <td>2</td>\n",
       "    </tr>\n",
       "    <tr>\n",
       "      <th>4</th>\n",
       "      <td>2.950962</td>\n",
       "      <td>4.017635</td>\n",
       "      <td>0</td>\n",
       "      <td>1</td>\n",
       "    </tr>\n",
       "    <tr>\n",
       "      <th>...</th>\n",
       "      <td>...</td>\n",
       "      <td>...</td>\n",
       "      <td>...</td>\n",
       "      <td>...</td>\n",
       "    </tr>\n",
       "    <tr>\n",
       "      <th>645560</th>\n",
       "      <td>12.588858</td>\n",
       "      <td>7.450304</td>\n",
       "      <td>0</td>\n",
       "      <td>-1</td>\n",
       "    </tr>\n",
       "    <tr>\n",
       "      <th>645561</th>\n",
       "      <td>0.775307</td>\n",
       "      <td>-22.604410</td>\n",
       "      <td>0</td>\n",
       "      <td>-1</td>\n",
       "    </tr>\n",
       "    <tr>\n",
       "      <th>645562</th>\n",
       "      <td>10.980627</td>\n",
       "      <td>2.249523</td>\n",
       "      <td>0</td>\n",
       "      <td>-1</td>\n",
       "    </tr>\n",
       "    <tr>\n",
       "      <th>645563</th>\n",
       "      <td>11.553638</td>\n",
       "      <td>-19.636395</td>\n",
       "      <td>0</td>\n",
       "      <td>-1</td>\n",
       "    </tr>\n",
       "    <tr>\n",
       "      <th>645564</th>\n",
       "      <td>0.747316</td>\n",
       "      <td>-24.099785</td>\n",
       "      <td>0</td>\n",
       "      <td>-1</td>\n",
       "    </tr>\n",
       "  </tbody>\n",
       "</table>\n",
       "<p>645565 rows × 4 columns</p>\n",
       "</div>"
      ],
      "text/plain": [
       "                x          y  EPS_0.5  EPS_0.25\n",
       "0        4.982193   4.177696        0         0\n",
       "1        5.086479   4.084801        0        -1\n",
       "2       -9.554541  -5.450275        0         1\n",
       "3       -3.474861 -15.172668        0         2\n",
       "4        2.950962   4.017635        0         1\n",
       "...           ...        ...      ...       ...\n",
       "645560  12.588858   7.450304        0        -1\n",
       "645561   0.775307 -22.604410        0        -1\n",
       "645562  10.980627   2.249523        0        -1\n",
       "645563  11.553638 -19.636395        0        -1\n",
       "645564   0.747316 -24.099785        0        -1\n",
       "\n",
       "[645565 rows x 4 columns]"
      ]
     },
     "execution_count": 104,
     "metadata": {},
     "output_type": "execute_result"
    }
   ],
   "source": [
    "# load UMAP projections\n",
    "umap_projection_path = \"../../data/processed/final_model_dglke/umap/best_projection_n_neighbours_10.npy\"\n",
    "umap_data = np.load(umap_projection_path)\n",
    "\n",
    "umap_df = pd.DataFrame(umap_data, columns=[\"x\", \"y\"])\n",
    "for k, v in cluster_idxs.items():\n",
    "    umap_df[k] = v\n",
    "    umap_df[k] = umap_df[k].astype(int)\n",
    "\n",
    "umap_df"
   ]
  },
  {
   "cell_type": "code",
   "execution_count": 110,
   "id": "da266243-b1d3-45e8-bf43-2a8e70df378b",
   "metadata": {},
   "outputs": [
    {
     "data": {
      "image/png": "[encoded data removed]",
      "text/plain": [
       "<Figure size 1800x1440 with 1 Axes>"
      ]
     },
     "metadata": {
      "needs_background": "light"
     },
     "output_type": "display_data"
    }
   ],
   "source": [
    "def plot(cluster_name):\n",
    "    filtered_df = umap_df[umap_df[cluster_name] > 0]\n",
    "    fig, ax = plt.subplots(figsize=(25,20))\n",
    "    \n",
    "    sns.scatterplot(\n",
    "        x=filtered_df.loc[:, \"x\"], \n",
    "        y=filtered_df.loc[:, \"y\"], \n",
    "        hue=filtered_df[cluster_name], \n",
    "        s=1, \n",
    "        legend=False,\n",
    "    )\n",
    "    \n",
    "plot(\"EPS_0.5\")\n"
   ]
  },
  {
   "cell_type": "code",
   "execution_count": null,
   "id": "6be5b397-3c32-4037-8118-d1508a00edb8",
   "metadata": {},
   "outputs": [],
   "source": []
  }
 ],
 "metadata": {
  "kernelspec": {
   "display_name": "Python 3 (ipykernel)",
   "language": "python",
   "name": "python3"
  },
  "language_info": {
   "codemirror_mode": {
    "name": "ipython",
    "version": 3
   },
   "file_extension": ".py",
   "mimetype": "text/x-python",
   "name": "python",
   "nbconvert_exporter": "python",
   "pygments_lexer": "ipython3",
   "version": "3.7.9"
  }
 },
 "nbformat": 4,
 "nbformat_minor": 5
}
