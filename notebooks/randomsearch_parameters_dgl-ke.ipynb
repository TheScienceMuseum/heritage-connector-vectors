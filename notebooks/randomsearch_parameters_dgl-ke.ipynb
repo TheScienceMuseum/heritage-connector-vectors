{
 "cells": [
  {
   "cell_type": "markdown",
   "metadata": {},
   "source": [
    "# Random Search of Parameters\n",
    "\n",
    "Method which takes in a dictionary of parameter values, and produces `n` sets of values through random sampling\n",
    "\n",
    "To get within *a*% of the true maximum, you need to run $n > \\frac{log(a)}{log(1-a)}$ trials [[ref]](https://stats.stackexchange.com/questions/160479/practical-hyperparameter-optimization-random-vs-grid-search). \n",
    "\n",
    "To get within 10% of the true maximum we need to run $n > 21.85$ trials. "
   ]
  },
  {
   "cell_type": "code",
   "execution_count": 1,
   "metadata": {},
   "outputs": [],
   "source": [
    "import numpy as np\n",
    "import itertools\n",
    "import datetime\n"
   ]
  },
  {
   "cell_type": "markdown",
   "metadata": {},
   "source": [
    "## 1. Get parameters"
   ]
  },
  {
   "cell_type": "code",
   "execution_count": 71,
   "metadata": {},
   "outputs": [],
   "source": [
    "# 1) SMG only\n",
    "params = {\n",
    "    \"lr\": [0.001, 0.01, 0.1],\n",
    "    \"neg_adv\": [True, False],\n",
    "    \"hidden_dim\": [100, 250, 400],\n",
    "    \"regularization_coef\": [2e-6, 2e-8],\n",
    "    \"gamma\": [1, 5, 10, 25],\n",
    "    # for RotatE we add double entity dim as there are Re and Im parts. Also weight RotatE the same as TransE by adding it twice\n",
    "    \"model\": [\"TransE_l1\", \"TransE_l2\", \"RotatE -de\", \"RotatE -de\"],\n",
    "    # Hinge loss is pairwise, and we try 3 different margins. NOTE: loss config not available in latest release\n",
    "#     \"loss_genre\": [\"'Logsigmoid'\", \"'Hinge' -pw -m 1.5\", \"'Hinge' -pw -m 4.5\", \"'Hinge' -pw -m 7.5\"], \n",
    "    \"num_negs_per_pos\": [10, 25, 50],\n",
    "    \"batch_size\": [1000, 2000, 4000, 8000],\n",
    "}\n",
    "\n",
    "# 2) SMG and V&A.\n",
    "# We exclude TransE this time, as 1) showed that RotatE almost always outperforms TransE\n",
    "params = {\n",
    "    \"lr\": [0.001, 0.01, 0.1],\n",
    "    \"neg_adv\": [True, False],\n",
    "    \"hidden_dim\": [250, 400, 600, 800],\n",
    "    \"regularization_coef\": [2e-6, 2e-8],\n",
    "    \"gamma\": [1, 5, 10, 25],\n",
    "    # for RotatE we add double entity dim as there are Re and Im parts.\n",
    "    \"model\": [\"RotatE -de\"],\n",
    "    \"num_negs_per_pos\": [10, 25, 50, 75],\n",
    "    \"batch_size\": [4000, 8000, 12000], # 8000 was optimal for SMG only\n",
    "}"
   ]
  },
  {
   "cell_type": "code",
   "execution_count": 60,
   "metadata": {},
   "outputs": [],
   "source": [
    "def get_random_samples(params, n, replacement=False, seed=42):\n",
    "    all_keys = params.keys()\n",
    "    all_vals = [v for k,v in params.items()]\n",
    "    combinations = list(itertools.product(*all_vals))\n",
    "    \n",
    "    rnd = np.random.RandomState(seed)\n",
    "    res_list = [combinations[i] for i in rnd.choice(len(combinations), n, replace=replacement)]\n",
    "    all_res = []\n",
    "    \n",
    "    for p in res_list:\n",
    "        all_res.append( {k: p[i] for (i,k) in enumerate(all_keys)} )\n",
    "        \n",
    "    return all_res"
   ]
  },
  {
   "cell_type": "code",
   "execution_count": 61,
   "metadata": {},
   "outputs": [
    {
     "data": {
      "text/plain": [
       "[{'lr': 0.001,\n",
       "  'neg_adv': False,\n",
       "  'hidden_dim': 400,\n",
       "  'regularization_coef': 2e-08,\n",
       "  'gamma': 10,\n",
       "  'model': 'RotatE -de',\n",
       "  'num_negs_per_pos': 25,\n",
       "  'batch_size': 4000},\n",
       " {'lr': 0.001,\n",
       "  'neg_adv': True,\n",
       "  'hidden_dim': 400,\n",
       "  'regularization_coef': 2e-08,\n",
       "  'gamma': 1,\n",
       "  'model': 'RotatE -de',\n",
       "  'num_negs_per_pos': 50,\n",
       "  'batch_size': 4000},\n",
       " {'lr': 0.1,\n",
       "  'neg_adv': False,\n",
       "  'hidden_dim': 250,\n",
       "  'regularization_coef': 2e-08,\n",
       "  'gamma': 10,\n",
       "  'model': 'TransE_l2',\n",
       "  'num_negs_per_pos': 50,\n",
       "  'batch_size': 4000}]"
      ]
     },
     "execution_count": 61,
     "metadata": {},
     "output_type": "execute_result"
    }
   ],
   "source": [
    "n = 22\n",
    "samples = get_random_samples(params, n)\n",
    "samples[0:3]"
   ]
  },
  {
   "cell_type": "markdown",
   "metadata": {},
   "source": [
    "## 2. Run DGL-KE on each of the parameter sets"
   ]
  },
  {
   "cell_type": "code",
   "execution_count": 72,
   "metadata": {},
   "outputs": [],
   "source": [
    "# fixed params\n",
    "DATA_PATH=\"../data/interim/train_test_split/\"\n",
    "SAVE_PATH=\"./dglke_results\"\n",
    "LOGS_PATH=\"./dglke_logs\"\n",
    "DATASET=\"heritageconnector\"\n",
    "FORMAT=\"raw_udd_hrt\"\n",
    "\n",
    "LOG_INTERVAL=10000\n",
    "BATCH_SIZE_EVAL=16\n",
    "NEG_SAMPLE_SIZE_EVAL=1000\n",
    "N_EPOCHS=800\n",
    "N_TRIPLES=2625643 # 09.07; 3% test and 3% val\n"
   ]
  },
  {
   "cell_type": "code",
   "execution_count": 75,
   "metadata": {},
   "outputs": [],
   "source": [
    "# delete old results and logs folders\n",
    "! rm -rf {SAVE_PATH}\n",
    "! rm -rf {LOGS_PATH}"
   ]
  },
  {
   "cell_type": "code",
   "execution_count": 74,
   "metadata": {
    "collapsed": true,
    "jupyter": {
     "outputs_hidden": true
    },
    "tags": []
   },
   "outputs": [
    {
     "name": "stdout",
     "output_type": "stream",
     "text": [
      "---TEST 1---\n",
      "^C\n",
      "---TEST 2---\n",
      "^C\n",
      "---TEST 3---\n",
      "^C\n",
      "---TEST 4---\n",
      "^C\n",
      "---TEST 5---\n"
     ]
    },
    {
     "ename": "UnboundLocalError",
     "evalue": "local variable 'child' referenced before assignment",
     "output_type": "error",
     "traceback": [
      "\u001b[0;31m---------------------------------------------------------------------------\u001b[0m",
      "\u001b[0;31mKeyboardInterrupt\u001b[0m                         Traceback (most recent call last)",
      "\u001b[0;32m~/.pyenv/versions/3.7.9/envs/hcvectors/lib/python3.7/site-packages/IPython/utils/_process_posix.py\u001b[0m in \u001b[0;36msystem\u001b[0;34m(self, cmd)\u001b[0m\n\u001b[1;32m    156\u001b[0m             \u001b[0;32melse\u001b[0m\u001b[0;34m:\u001b[0m\u001b[0;34m\u001b[0m\u001b[0;34m\u001b[0m\u001b[0m\n\u001b[0;32m--> 157\u001b[0;31m                 \u001b[0mchild\u001b[0m \u001b[0;34m=\u001b[0m \u001b[0mpexpect\u001b[0m\u001b[0;34m.\u001b[0m\u001b[0mspawn\u001b[0m\u001b[0;34m(\u001b[0m\u001b[0mself\u001b[0m\u001b[0;34m.\u001b[0m\u001b[0msh\u001b[0m\u001b[0;34m,\u001b[0m \u001b[0margs\u001b[0m\u001b[0;34m=\u001b[0m\u001b[0;34m[\u001b[0m\u001b[0;34m'-c'\u001b[0m\u001b[0;34m,\u001b[0m \u001b[0mcmd\u001b[0m\u001b[0;34m]\u001b[0m\u001b[0;34m)\u001b[0m  \u001b[0;31m# Vanilla Pexpect\u001b[0m\u001b[0;34m\u001b[0m\u001b[0;34m\u001b[0m\u001b[0m\n\u001b[0m\u001b[1;32m    158\u001b[0m             \u001b[0mflush\u001b[0m \u001b[0;34m=\u001b[0m \u001b[0msys\u001b[0m\u001b[0;34m.\u001b[0m\u001b[0mstdout\u001b[0m\u001b[0;34m.\u001b[0m\u001b[0mflush\u001b[0m\u001b[0;34m\u001b[0m\u001b[0;34m\u001b[0m\u001b[0m\n",
      "\u001b[0;32m~/.pyenv/versions/3.7.9/envs/hcvectors/lib/python3.7/site-packages/pexpect/pty_spawn.py\u001b[0m in \u001b[0;36m__init__\u001b[0;34m(self, command, args, timeout, maxread, searchwindowsize, logfile, cwd, env, ignore_sighup, echo, preexec_fn, encoding, codec_errors, dimensions, use_poll)\u001b[0m\n\u001b[1;32m    204\u001b[0m         \u001b[0;32melse\u001b[0m\u001b[0;34m:\u001b[0m\u001b[0;34m\u001b[0m\u001b[0;34m\u001b[0m\u001b[0m\n\u001b[0;32m--> 205\u001b[0;31m             \u001b[0mself\u001b[0m\u001b[0;34m.\u001b[0m\u001b[0m_spawn\u001b[0m\u001b[0;34m(\u001b[0m\u001b[0mcommand\u001b[0m\u001b[0;34m,\u001b[0m \u001b[0margs\u001b[0m\u001b[0;34m,\u001b[0m \u001b[0mpreexec_fn\u001b[0m\u001b[0;34m,\u001b[0m \u001b[0mdimensions\u001b[0m\u001b[0;34m)\u001b[0m\u001b[0;34m\u001b[0m\u001b[0;34m\u001b[0m\u001b[0m\n\u001b[0m\u001b[1;32m    206\u001b[0m         \u001b[0mself\u001b[0m\u001b[0;34m.\u001b[0m\u001b[0muse_poll\u001b[0m \u001b[0;34m=\u001b[0m \u001b[0muse_poll\u001b[0m\u001b[0;34m\u001b[0m\u001b[0;34m\u001b[0m\u001b[0m\n",
      "\u001b[0;32m~/.pyenv/versions/3.7.9/envs/hcvectors/lib/python3.7/site-packages/pexpect/pty_spawn.py\u001b[0m in \u001b[0;36m_spawn\u001b[0;34m(self, command, args, preexec_fn, dimensions)\u001b[0m\n\u001b[1;32m    303\u001b[0m         self.ptyproc = self._spawnpty(self.args, env=self.env,\n\u001b[0;32m--> 304\u001b[0;31m                                      cwd=self.cwd, **kwargs)\n\u001b[0m\u001b[1;32m    305\u001b[0m \u001b[0;34m\u001b[0m\u001b[0m\n",
      "\u001b[0;32m~/.pyenv/versions/3.7.9/envs/hcvectors/lib/python3.7/site-packages/pexpect/pty_spawn.py\u001b[0m in \u001b[0;36m_spawnpty\u001b[0;34m(self, args, **kwargs)\u001b[0m\n\u001b[1;32m    314\u001b[0m         \u001b[0;34m'''Spawn a pty and return an instance of PtyProcess.'''\u001b[0m\u001b[0;34m\u001b[0m\u001b[0;34m\u001b[0m\u001b[0m\n\u001b[0;32m--> 315\u001b[0;31m         \u001b[0;32mreturn\u001b[0m \u001b[0mptyprocess\u001b[0m\u001b[0;34m.\u001b[0m\u001b[0mPtyProcess\u001b[0m\u001b[0;34m.\u001b[0m\u001b[0mspawn\u001b[0m\u001b[0;34m(\u001b[0m\u001b[0margs\u001b[0m\u001b[0;34m,\u001b[0m \u001b[0;34m**\u001b[0m\u001b[0mkwargs\u001b[0m\u001b[0;34m)\u001b[0m\u001b[0;34m\u001b[0m\u001b[0;34m\u001b[0m\u001b[0m\n\u001b[0m\u001b[1;32m    316\u001b[0m \u001b[0;34m\u001b[0m\u001b[0m\n",
      "\u001b[0;32m~/.pyenv/versions/3.7.9/envs/hcvectors/lib/python3.7/site-packages/ptyprocess/ptyprocess.py\u001b[0m in \u001b[0;36mspawn\u001b[0;34m(cls, argv, cwd, env, echo, preexec_fn, dimensions, pass_fds)\u001b[0m\n\u001b[1;32m    313\u001b[0m         \u001b[0;31m# of the pipe and reads from the reading end.\u001b[0m\u001b[0;34m\u001b[0m\u001b[0;34m\u001b[0m\u001b[0;34m\u001b[0m\u001b[0m\n\u001b[0;32m--> 314\u001b[0;31m         \u001b[0mos\u001b[0m\u001b[0;34m.\u001b[0m\u001b[0mclose\u001b[0m\u001b[0;34m(\u001b[0m\u001b[0mexec_err_pipe_write\u001b[0m\u001b[0;34m)\u001b[0m\u001b[0;34m\u001b[0m\u001b[0;34m\u001b[0m\u001b[0m\n\u001b[0m\u001b[1;32m    315\u001b[0m         \u001b[0mexec_err_data\u001b[0m \u001b[0;34m=\u001b[0m \u001b[0mos\u001b[0m\u001b[0;34m.\u001b[0m\u001b[0mread\u001b[0m\u001b[0;34m(\u001b[0m\u001b[0mexec_err_pipe_read\u001b[0m\u001b[0;34m,\u001b[0m \u001b[0;36m4096\u001b[0m\u001b[0;34m)\u001b[0m\u001b[0;34m\u001b[0m\u001b[0;34m\u001b[0m\u001b[0m\n",
      "\u001b[0;31mKeyboardInterrupt\u001b[0m: ",
      "\nDuring handling of the above exception, another exception occurred:\n",
      "\u001b[0;31mUnboundLocalError\u001b[0m                         Traceback (most recent call last)",
      "\u001b[0;32m/var/folders/nv/ml84yvj11ns_bxrq3c40q2xc0000gn/T/ipykernel_17291/1882897013.py\u001b[0m in \u001b[0;36m<module>\u001b[0;34m\u001b[0m\n\u001b[1;32m      9\u001b[0m     \u001b[0mneg_adv_flag\u001b[0m \u001b[0;34m=\u001b[0m \u001b[0;34m'-adv'\u001b[0m \u001b[0;32mif\u001b[0m \u001b[0ms\u001b[0m\u001b[0;34m[\u001b[0m\u001b[0;34m'neg_adv'\u001b[0m\u001b[0;34m]\u001b[0m \u001b[0;32melse\u001b[0m \u001b[0;34m''\u001b[0m\u001b[0;34m\u001b[0m\u001b[0;34m\u001b[0m\u001b[0m\n\u001b[1;32m     10\u001b[0m \u001b[0;34m\u001b[0m\u001b[0m\n\u001b[0;32m---> 11\u001b[0;31m     \u001b[0mget_ipython\u001b[0m\u001b[0;34m(\u001b[0m\u001b[0;34m)\u001b[0m\u001b[0;34m.\u001b[0m\u001b[0msystem\u001b[0m\u001b[0;34m(\u001b[0m\u001b[0;34m\"DGLBACKEND=pytorch dglke_train --model_name {s['model']} --data_path {DATA_PATH} --save_path {SAVE_PATH}  --dataset {DATASET}  --format {FORMAT}  --data_files train.csv val.csv test.csv --delimiter '\\t' --max_step {int(N_TRIPLES/s['batch_size']*N_EPOCHS)}  --log_interval {LOG_INTERVAL} --batch_size {s['batch_size']} --batch_size_eval {BATCH_SIZE_EVAL} --neg_sample_size {s['num_negs_per_pos']}  --lr {s['lr']} {neg_adv_flag} --hidden_dim {s['hidden_dim']} -rc {s['regularization_coef']} -g {s['gamma']}  --gpu 0 --test --mix_cpu_gpu --async_update |& tee {filename}\"\u001b[0m\u001b[0;34m)\u001b[0m\u001b[0;34m\u001b[0m\u001b[0;34m\u001b[0m\u001b[0m\n\u001b[0m",
      "\u001b[0;32m~/.pyenv/versions/3.7.9/envs/hcvectors/lib/python3.7/site-packages/ipykernel/zmqshell.py\u001b[0m in \u001b[0;36msystem_piped\u001b[0;34m(self, cmd)\u001b[0m\n\u001b[1;32m    634\u001b[0m                 \u001b[0mself\u001b[0m\u001b[0;34m.\u001b[0m\u001b[0muser_ns\u001b[0m\u001b[0;34m[\u001b[0m\u001b[0;34m'_exit_code'\u001b[0m\u001b[0;34m]\u001b[0m \u001b[0;34m=\u001b[0m \u001b[0msystem\u001b[0m\u001b[0;34m(\u001b[0m\u001b[0mcmd\u001b[0m\u001b[0;34m)\u001b[0m\u001b[0;34m\u001b[0m\u001b[0;34m\u001b[0m\u001b[0m\n\u001b[1;32m    635\u001b[0m         \u001b[0;32melse\u001b[0m\u001b[0;34m:\u001b[0m\u001b[0;34m\u001b[0m\u001b[0;34m\u001b[0m\u001b[0m\n\u001b[0;32m--> 636\u001b[0;31m             \u001b[0mself\u001b[0m\u001b[0;34m.\u001b[0m\u001b[0muser_ns\u001b[0m\u001b[0;34m[\u001b[0m\u001b[0;34m'_exit_code'\u001b[0m\u001b[0;34m]\u001b[0m \u001b[0;34m=\u001b[0m \u001b[0msystem\u001b[0m\u001b[0;34m(\u001b[0m\u001b[0mself\u001b[0m\u001b[0;34m.\u001b[0m\u001b[0mvar_expand\u001b[0m\u001b[0;34m(\u001b[0m\u001b[0mcmd\u001b[0m\u001b[0;34m,\u001b[0m \u001b[0mdepth\u001b[0m\u001b[0;34m=\u001b[0m\u001b[0;36m1\u001b[0m\u001b[0;34m)\u001b[0m\u001b[0;34m)\u001b[0m\u001b[0;34m\u001b[0m\u001b[0;34m\u001b[0m\u001b[0m\n\u001b[0m\u001b[1;32m    637\u001b[0m \u001b[0;34m\u001b[0m\u001b[0m\n\u001b[1;32m    638\u001b[0m     \u001b[0;31m# Ensure new system_piped implementation is used\u001b[0m\u001b[0;34m\u001b[0m\u001b[0;34m\u001b[0m\u001b[0;34m\u001b[0m\u001b[0m\n",
      "\u001b[0;32m~/.pyenv/versions/3.7.9/envs/hcvectors/lib/python3.7/site-packages/IPython/utils/_process_posix.py\u001b[0m in \u001b[0;36msystem\u001b[0;34m(self, cmd)\u001b[0m\n\u001b[1;32m    171\u001b[0m             \u001b[0;31m# (the character is known as ETX for 'End of Text', see\u001b[0m\u001b[0;34m\u001b[0m\u001b[0;34m\u001b[0m\u001b[0;34m\u001b[0m\u001b[0m\n\u001b[1;32m    172\u001b[0m             \u001b[0;31m# curses.ascii.ETX).\u001b[0m\u001b[0;34m\u001b[0m\u001b[0;34m\u001b[0m\u001b[0;34m\u001b[0m\u001b[0m\n\u001b[0;32m--> 173\u001b[0;31m             \u001b[0mchild\u001b[0m\u001b[0;34m.\u001b[0m\u001b[0msendline\u001b[0m\u001b[0;34m(\u001b[0m\u001b[0mchr\u001b[0m\u001b[0;34m(\u001b[0m\u001b[0;36m3\u001b[0m\u001b[0;34m)\u001b[0m\u001b[0;34m)\u001b[0m\u001b[0;34m\u001b[0m\u001b[0;34m\u001b[0m\u001b[0m\n\u001b[0m\u001b[1;32m    174\u001b[0m             \u001b[0;31m# Read and print any more output the program might produce on its\u001b[0m\u001b[0;34m\u001b[0m\u001b[0;34m\u001b[0m\u001b[0;34m\u001b[0m\u001b[0m\n\u001b[1;32m    175\u001b[0m             \u001b[0;31m# way out.\u001b[0m\u001b[0;34m\u001b[0m\u001b[0;34m\u001b[0m\u001b[0;34m\u001b[0m\u001b[0m\n",
      "\u001b[0;31mUnboundLocalError\u001b[0m: local variable 'child' referenced before assignment"
     ]
    }
   ],
   "source": [
    "# run experiment\n",
    "\n",
    "!mkdir dglke_logs\n",
    "\n",
    "\"\"\"\n",
    "Explanation for (some) parameters:\n",
    "- max_step: we convert from n_epochs to n_steps by doing n_epochs*(n_triples/batch_size)\n",
    "- no_eval_filter: this speeds up testing by assuming that all sampled triples are negative. It'll lead to an underestimation\n",
    "    in performance but is useful for hyperparameter tuning. See this issue: https://github.com/awslabs/dgl-ke/issues/84\n",
    "- neg_sample_size_eval: this is the number of negative edges used in evaluation. We set it similar to BATCH_SIZE; without it\n",
    "    we're likely to get a CUDA OutOfMemoryError.\n",
    "\"\"\"\n",
    "\n",
    "for idx, s in enumerate(samples):\n",
    "    print(f\"---TEST {idx+1}---\")\n",
    "    \n",
    "    filename = f\"{LOGS_PATH}/run_{idx+1}.txt\"\n",
    "    neg_adv_flag = '-adv' if s['neg_adv'] else ''\n",
    "\n",
    "    !DGLBACKEND=pytorch dglke_train --model_name {s['model']} --data_path {DATA_PATH} --save_path {SAVE_PATH}  --dataset {DATASET}  --format {FORMAT} \\\n",
    "--data_files train.csv val.csv test.csv --delimiter '\t' --max_step {int(N_TRIPLES/s['batch_size']*N_EPOCHS)} \\\n",
    "--log_interval {LOG_INTERVAL} --batch_size {s['batch_size']} --batch_size_eval {BATCH_SIZE_EVAL} --neg_sample_size {s['num_negs_per_pos']} \\\n",
    "--lr {s['lr']} {neg_adv_flag} --hidden_dim {s['hidden_dim']} -rc {s['regularization_coef']} -g {s['gamma']} \\\n",
    "--gpu 0 --test --mix_cpu_gpu --async_update --no_eval_filter --neg_sample_size_eval {NEG_SAMPLE_SIZE_EVAL} |& tee {filename}\n"
   ]
  },
  {
   "cell_type": "code",
   "execution_count": null,
   "metadata": {},
   "outputs": [],
   "source": []
  }
 ],
 "metadata": {
  "kernelspec": {
   "display_name": "Python 3 (ipykernel)",
   "language": "python",
   "name": "python3"
  },
  "language_info": {
   "codemirror_mode": {
    "name": "ipython",
    "version": 3
   },
   "file_extension": ".py",
   "mimetype": "text/x-python",
   "name": "python",
   "nbconvert_exporter": "python",
   "pygments_lexer": "ipython3",
   "version": "3.7.9"
  }
 },
 "nbformat": 4,
 "nbformat_minor": 4
}
